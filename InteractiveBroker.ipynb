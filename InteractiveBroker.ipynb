{
 "cells": [
  {
   "cell_type": "code",
   "execution_count": 4,
   "id": "522e1b4f",
   "metadata": {},
   "outputs": [],
   "source": [
    "\n",
    "\n",
    "\n",
    "\n",
    "\n",
    "############ Open Trading WorkStation before running this code to ensure connection ############\n",
    "\n",
    "\n",
    "\n",
    "\n"
   ]
  },
  {
   "cell_type": "code",
   "execution_count": 5,
   "id": "8d6136bc",
   "metadata": {},
   "outputs": [],
   "source": [
    "#https://www.interactivebrokers.com/campus/ibkr-quant-news/ib_insync-guide-interactive-brokers-api/\n",
    "\n",
    "#Note that ib_insync was not created by the IB team."
   ]
  },
  {
   "cell_type": "code",
   "execution_count": 1,
   "id": "03741a78",
   "metadata": {},
   "outputs": [
    {
     "data": {
      "text/plain": [
       "<IB connected to 127.0.0.1:7497 clientId=1>"
      ]
     },
     "execution_count": 1,
     "metadata": {},
     "output_type": "execute_result"
    },
    {
     "name": "stderr",
     "output_type": "stream",
     "text": [
      "Error 10089, reqId 4: Requested market data requires additional subscription for API. See link in 'Market Data Connections' dialog for more details.Delayed market data is available.NVDA NASDAQ.NMS/TOP/ALL, contract: Stock(conId=4815747, symbol='NVDA', exchange='SMART', primaryExchange='NASDAQ', currency='USD', localSymbol='NVDA', tradingClass='NMS')\n",
      "Error 10089, reqId 6: Requested market data requires additional subscription for API. See link in 'Market Data Connections' dialog for more details.Delayed market data is available.NVDA NASDAQ.NMS/TOP/ALL, contract: Stock(conId=4815747, symbol='NVDA', exchange='SMART', primaryExchange='NASDAQ', currency='USD', localSymbol='NVDA', tradingClass='NMS')\n",
      "Error 10089, reqId 10: Requested market data requires additional subscription for API. See link in 'Market Data Connections' dialog for more details.Delayed market data is available.NVDA NASDAQ.NMS/TOP/ALL, contract: Stock(conId=4815747, symbol='NVDA', exchange='SMART', primaryExchange='NASDAQ', currency='USD', localSymbol='NVDA', tradingClass='NMS')\n"
     ]
    }
   ],
   "source": [
    "#We create an instance of IB and use it to connect to the local TWS application at the specified host and port. \n",
    "#The clientId is a unique identifier for your connection, allowing multiple connections from the same machine.\n",
    "\n",
    "#The util.startLoop() function enables the asynchronous event loop required by ib_insync when being run in Jupyter Notebook.\n",
    "#TWS is Trader WorkStation\n",
    "\n",
    "from ib_insync import *\n",
    "util.startLoop()\n",
    "\n",
    "ib = IB()\n",
    "#ib.connect('127.0.0.1', 7497, clientId=12)\n",
    "ib.connect()\n"
   ]
  },
  {
   "cell_type": "code",
   "execution_count": 15,
   "id": "e79c291d",
   "metadata": {},
   "outputs": [],
   "source": [
    "nvda = Stock(\"NVDA\", \"SMART\", \"USD\")\n",
    "ib.qualifyContracts(nvda)\n",
    "[ticker] = ib.reqTickers(nvda)\n",
    "nvdaValue = ticker.marketPrice()"
   ]
  },
  {
   "cell_type": "code",
   "execution_count": 9,
   "id": "a46785e1",
   "metadata": {},
   "outputs": [],
   "source": [
    "chains = ib.reqSecDefOptParams(nvda.symbol, \"\", nvda.secType, nvda.conId)\n",
    "chain = next(c for c in chains if c.tradingClass == \"NVDA\" and c.exchange == \"SMART\")\n",
    "\n",
    "strikes = [\n",
    "    strike for strike in chain.strikes\n",
    "    if strike % 5 == 0\n",
    "    and nvdaValue - 20 < strike < nvdaValue + 20\n",
    "]\n",
    "\n",
    "expirations = sorted(exp for exp in chain.expirations)[:3]\n",
    "rights = [\"C\", \"P\"]"
   ]
  },
  {
   "cell_type": "code",
   "execution_count": 14,
   "id": "00dd8610",
   "metadata": {},
   "outputs": [
    {
     "data": {
      "text/plain": [
       "nan"
      ]
     },
     "execution_count": 14,
     "metadata": {},
     "output_type": "execute_result"
    }
   ],
   "source": [
    "nvdaValue"
   ]
  },
  {
   "cell_type": "code",
   "execution_count": 6,
   "id": "4bf28828",
   "metadata": {},
   "outputs": [],
   "source": [
    "contracts = [\n",
    "    Option(\"NVDA\", expiration, strike, right, \"SMART\", tradingClass=\"NVDA\")\n",
    "    for right in rights\n",
    "    for expiration in expirations\n",
    "    for strike in strikes\n",
    "]\n",
    "\n",
    "contracts = ib.qualifyContracts(*contracts)\n",
    "tickers = ib.reqTickers(*contracts)\n",
    "\n",
    "contractData = [\n",
    "    (\n",
    "        t.contract.lastTradeDateOrContractMonth, \n",
    "        t.contract.strike, \n",
    "        t.contract.right,\n",
    "        t.time,\n",
    "        t.close,\n",
    "        nvdaValue,\n",
    "    )\n",
    "    for t\n",
    "    in tickers\n",
    "]\n",
    "\n",
    "fields = [\n",
    "    \"expiration\", \n",
    "    \"strike\", \n",
    "    \"right\", \n",
    "    \"time\", \n",
    "    \"undPrice\",\n",
    "    \"close\", \n",
    "]\n",
    "\n",
    "util.df([dict(zip(fields, t)) for t in contractData])"
   ]
  },
  {
   "cell_type": "code",
   "execution_count": 8,
   "id": "61a20b3a",
   "metadata": {},
   "outputs": [
    {
     "data": {
      "text/plain": [
       "<function ib_insync.util.df(objs, labels: Optional[List[str]] = None)>"
      ]
     },
     "execution_count": 8,
     "metadata": {},
     "output_type": "execute_result"
    }
   ],
   "source": [
    "util.df"
   ]
  },
  {
   "cell_type": "code",
   "execution_count": null,
   "id": "a523026f",
   "metadata": {},
   "outputs": [],
   "source": []
  }
 ],
 "metadata": {
  "kernelspec": {
   "display_name": "algo_env1",
   "language": "python",
   "name": "algo_env1"
  },
  "language_info": {
   "codemirror_mode": {
    "name": "ipython",
    "version": 3
   },
   "file_extension": ".py",
   "mimetype": "text/x-python",
   "name": "python",
   "nbconvert_exporter": "python",
   "pygments_lexer": "ipython3",
   "version": "3.9.12"
  },
  "toc": {
   "base_numbering": 1,
   "nav_menu": {},
   "number_sections": true,
   "sideBar": true,
   "skip_h1_title": false,
   "title_cell": "Table of Contents",
   "title_sidebar": "Contents",
   "toc_cell": false,
   "toc_position": {},
   "toc_section_display": true,
   "toc_window_display": false
  },
  "varInspector": {
   "cols": {
    "lenName": 16,
    "lenType": 16,
    "lenVar": 40
   },
   "kernels_config": {
    "python": {
     "delete_cmd_postfix": "",
     "delete_cmd_prefix": "del ",
     "library": "var_list.py",
     "varRefreshCmd": "print(var_dic_list())"
    },
    "r": {
     "delete_cmd_postfix": ") ",
     "delete_cmd_prefix": "rm(",
     "library": "var_list.r",
     "varRefreshCmd": "cat(var_dic_list()) "
    }
   },
   "types_to_exclude": [
    "module",
    "function",
    "builtin_function_or_method",
    "instance",
    "_Feature"
   ],
   "window_display": false
  }
 },
 "nbformat": 4,
 "nbformat_minor": 5
}
