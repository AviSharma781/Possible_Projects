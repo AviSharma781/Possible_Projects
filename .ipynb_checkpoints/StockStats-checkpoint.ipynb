{
 "cells": [
  {
   "cell_type": "code",
   "execution_count": 6,
   "id": "abaf5cf8",
   "metadata": {},
   "outputs": [],
   "source": [
    "# https://pypi.org/project/stockstats/#description"
   ]
  },
  {
   "cell_type": "code",
   "execution_count": 4,
   "id": "a18cbcd8",
   "metadata": {},
   "outputs": [],
   "source": [
    "import pandas as pd\n",
    "from stockstats import wrap\n",
    "from stockstats import StockDataFrame as sdf\n",
    "\n",
    "# data = pd.read_csv('stock.csv')\n",
    "# df = wrap(data)"
   ]
  },
  {
   "cell_type": "code",
   "execution_count": 2,
   "id": "bd004af7",
   "metadata": {},
   "outputs": [
    {
     "name": "stderr",
     "output_type": "stream",
     "text": [
      "[*********************100%***********************]  1 of 1 completed\n"
     ]
    }
   ],
   "source": [
    "import yfinance as yf\n",
    "\n",
    "# Disable multi-level index when downloading data\n",
    "data = yf.download('VIXY', multi_level_index=False)"
   ]
  },
  {
   "cell_type": "code",
   "execution_count": 3,
   "id": "060e32df",
   "metadata": {},
   "outputs": [
    {
     "data": {
      "text/html": [
       "<div>\n",
       "<style scoped>\n",
       "    .dataframe tbody tr th:only-of-type {\n",
       "        vertical-align: middle;\n",
       "    }\n",
       "\n",
       "    .dataframe tbody tr th {\n",
       "        vertical-align: top;\n",
       "    }\n",
       "\n",
       "    .dataframe thead th {\n",
       "        text-align: right;\n",
       "    }\n",
       "</style>\n",
       "<table border=\"1\" class=\"dataframe\">\n",
       "  <thead>\n",
       "    <tr style=\"text-align: right;\">\n",
       "      <th></th>\n",
       "      <th>close</th>\n",
       "      <th>high</th>\n",
       "      <th>low</th>\n",
       "      <th>open</th>\n",
       "      <th>volume</th>\n",
       "    </tr>\n",
       "    <tr>\n",
       "      <th>Date</th>\n",
       "      <th></th>\n",
       "      <th></th>\n",
       "      <th></th>\n",
       "      <th></th>\n",
       "      <th></th>\n",
       "    </tr>\n",
       "  </thead>\n",
       "  <tbody>\n",
       "    <tr>\n",
       "      <th>2011-01-04</th>\n",
       "      <td>633840.0</td>\n",
       "      <td>650800.0</td>\n",
       "      <td>633120.0</td>\n",
       "      <td>633120.0</td>\n",
       "      <td>14</td>\n",
       "    </tr>\n",
       "    <tr>\n",
       "      <th>2011-01-05</th>\n",
       "      <td>620400.0</td>\n",
       "      <td>640800.0</td>\n",
       "      <td>617440.0</td>\n",
       "      <td>640400.0</td>\n",
       "      <td>9</td>\n",
       "    </tr>\n",
       "    <tr>\n",
       "      <th>2011-01-06</th>\n",
       "      <td>623040.0</td>\n",
       "      <td>629440.0</td>\n",
       "      <td>614960.0</td>\n",
       "      <td>619520.0</td>\n",
       "      <td>10</td>\n",
       "    </tr>\n",
       "    <tr>\n",
       "      <th>2011-01-07</th>\n",
       "      <td>624320.0</td>\n",
       "      <td>640080.0</td>\n",
       "      <td>609440.0</td>\n",
       "      <td>617920.0</td>\n",
       "      <td>5</td>\n",
       "    </tr>\n",
       "    <tr>\n",
       "      <th>2011-01-10</th>\n",
       "      <td>623040.0</td>\n",
       "      <td>646960.0</td>\n",
       "      <td>622080.0</td>\n",
       "      <td>637120.0</td>\n",
       "      <td>9</td>\n",
       "    </tr>\n",
       "  </tbody>\n",
       "</table>\n",
       "</div>"
      ],
      "text/plain": [
       "               close      high       low      open  volume\n",
       "Date                                                      \n",
       "2011-01-04  633840.0  650800.0  633120.0  633120.0      14\n",
       "2011-01-05  620400.0  640800.0  617440.0  640400.0       9\n",
       "2011-01-06  623040.0  629440.0  614960.0  619520.0      10\n",
       "2011-01-07  624320.0  640080.0  609440.0  617920.0       5\n",
       "2011-01-10  623040.0  646960.0  622080.0  637120.0       9"
      ]
     },
     "execution_count": 3,
     "metadata": {},
     "output_type": "execute_result"
    }
   ],
   "source": [
    "df = wrap(data)\n",
    "df.head()"
   ]
  },
  {
   "cell_type": "code",
   "execution_count": 5,
   "id": "8fb38fb5",
   "metadata": {},
   "outputs": [
    {
     "data": {
      "text/plain": [
       "Date\n",
       "2011-01-04          NaN\n",
       "2011-01-05     0.000000\n",
       "2011-01-06    17.460317\n",
       "2011-01-07    24.356583\n",
       "2011-01-10    22.345942\n",
       "                ...    \n",
       "2024-12-20    53.298240\n",
       "2024-12-23    47.828504\n",
       "2024-12-24    43.757730\n",
       "2024-12-26    44.268559\n",
       "2024-12-27    48.313084\n",
       "Name: rsi, Length: 3519, dtype: float64"
      ]
     },
     "execution_count": 5,
     "metadata": {},
     "output_type": "execute_result"
    }
   ],
   "source": [
    "stock=sdf.retype(data)   \n",
    "stock.get('rsi')"
   ]
  },
  {
   "cell_type": "code",
   "execution_count": null,
   "id": "eea78590",
   "metadata": {},
   "outputs": [],
   "source": []
  }
 ],
 "metadata": {
  "kernelspec": {
   "display_name": "env_zipline",
   "language": "python",
   "name": "env_zipline"
  },
  "language_info": {
   "codemirror_mode": {
    "name": "ipython",
    "version": 3
   },
   "file_extension": ".py",
   "mimetype": "text/x-python",
   "name": "python",
   "nbconvert_exporter": "python",
   "pygments_lexer": "ipython3",
   "version": "3.10.16"
  },
  "toc": {
   "base_numbering": 1,
   "nav_menu": {},
   "number_sections": true,
   "sideBar": true,
   "skip_h1_title": false,
   "title_cell": "Table of Contents",
   "title_sidebar": "Contents",
   "toc_cell": false,
   "toc_position": {},
   "toc_section_display": true,
   "toc_window_display": false
  },
  "varInspector": {
   "cols": {
    "lenName": 16,
    "lenType": 16,
    "lenVar": 40
   },
   "kernels_config": {
    "python": {
     "delete_cmd_postfix": "",
     "delete_cmd_prefix": "del ",
     "library": "var_list.py",
     "varRefreshCmd": "print(var_dic_list())"
    },
    "r": {
     "delete_cmd_postfix": ") ",
     "delete_cmd_prefix": "rm(",
     "library": "var_list.r",
     "varRefreshCmd": "cat(var_dic_list()) "
    }
   },
   "types_to_exclude": [
    "module",
    "function",
    "builtin_function_or_method",
    "instance",
    "_Feature"
   ],
   "window_display": false
  }
 },
 "nbformat": 4,
 "nbformat_minor": 5
}
