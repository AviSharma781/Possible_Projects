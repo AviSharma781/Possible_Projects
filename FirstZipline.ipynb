{
 "cells": [
  {
   "cell_type": "code",
   "execution_count": 1,
   "id": "c0932749",
   "metadata": {},
   "outputs": [],
   "source": [
    "import warnings\n",
    "warnings.filterwarnings(\"ignore\")\n",
    "\n",
    "import pandas as pd\n",
    "\n",
    "from zipline import run_algorithm\n",
    "from zipline.api import (\n",
    "    attach_pipeline,\n",
    "    date_rules,\n",
    "    order_target_percent,\n",
    "    pipeline_output,\n",
    "    record,\n",
    "    symbols,\n",
    "    schedule_function,\n",
    "    symbol,\n",
    "    time_rules,\n",
    "    get_open_orders,\n",
    ")\n",
    "from zipline.finance import commission, slippage\n",
    "from zipline.pipeline import Pipeline\n",
    "from zipline.pipeline.factors import SimpleMovingAverage\n",
    "from zipline.pipeline.data import USEquityPricing\n",
    "\n",
    "import pyfolio as pf"
   ]
  },
  {
   "cell_type": "code",
   "execution_count": 2,
   "id": "371610e4",
   "metadata": {},
   "outputs": [],
   "source": [
    "import os\n",
    "\n",
    "from zipline.utils.run_algo import load_extensions\n",
    "\n",
    "load_extensions(\n",
    "    default=True,\n",
    "    extensions=[],\n",
    "    strict=True,\n",
    "    environ=os.environ,\n",
    ")"
   ]
  },
  {
   "cell_type": "code",
   "execution_count": 3,
   "id": "172793bb",
   "metadata": {},
   "outputs": [],
   "source": [
    "import os\n",
    "os.chdir('C:\\\\Users\\\\avi\\\\.zipline\\\\csv\\\\yahoo')"
   ]
  },
  {
   "cell_type": "code",
   "execution_count": 4,
   "id": "e1be69ee",
   "metadata": {},
   "outputs": [],
   "source": [
    "# import yfinance as yf\n",
    "# for symbol in [\"SPY\", \"EFA\", \"IEF\", \"VNQ\", \"GSG\",\"AAPL\",\"MSFT\"]:\n",
    "# # for symbol in [\"MSFT\"]:\n",
    "#     data = yf.download(symbol, multi_level_index=False)\n",
    "#     data = data.loc[data.index > '1999-01-01']\n",
    "#     data.to_csv('%s.csv'%symbol)\n",
    "    "
   ]
  },
  {
   "cell_type": "code",
   "execution_count": null,
   "id": "46a59466",
   "metadata": {},
   "outputs": [],
   "source": [
    "# set YAHOO_CSVDIR=/path/to/csvdir \n",
    "# zipline ingest -b yahoo_csv"
   ]
  },
  {
   "cell_type": "code",
   "execution_count": 5,
   "id": "4f205efe",
   "metadata": {},
   "outputs": [],
   "source": [
    "def initialize(context):\n",
    "    context.stocks = [\n",
    "#     context.symbols = [\n",
    "        symbol(\"SPY\"),\n",
    "        symbol(\"EFA\"),\n",
    "        symbol(\"IEF\"),\n",
    "        symbol(\"VNQ\"),\n",
    "        symbol(\"GSG\"),\n",
    "    ]\n",
    "#     context.stocks = symbols(\"SPY\", \"EFA\", \"IEF\", \"VNQ\", \"GSG\")    \n",
    "    #SPY - S&P 500 ETF Trust\n",
    "    #EFA - MSCI EAFE ETF\n",
    "    #IEF - 10 Year Treasury Bond ETF\n",
    "    #VNQ - Vanguard Real Estate Index Fund ETF\n",
    "    #GSG - S&P GSCI Commodity-Indexed Trust ETF    \n",
    "    \n",
    "    context.sma = {}\n",
    "    context.period = 10 * 21\n",
    "\n",
    "    #for asset in context.symbols: \n",
    "    for asset in context.stocks: \n",
    "        context.sma[asset] = SimpleMovingAverage(\n",
    "            inputs=[USEquityPricing.close],\n",
    "            window_length=context.period\n",
    "        )\n",
    "    \n",
    "    \n",
    "    #The rebalance method will be called for every single month_start with the prices 1\n",
    "    #min after the market opens\n",
    "    schedule_function(\n",
    "        func=rebalance,\n",
    "        date_rule=date_rules.month_start(),\n",
    "        time_rule=time_rules.market_open(minutes=1),\n",
    "    )\n",
    "\n",
    "    context.set_commission(\n",
    "        commission.PerShare(cost=0.01, min_trade_cost=1.00)\n",
    "    )\n",
    "    context.set_slippage(slippage.VolumeShareSlippage())"
   ]
  },
  {
   "cell_type": "markdown",
   "id": "c20f502f",
   "metadata": {},
   "source": [
    "The logic is straightforward: For each ETF representing an asset class, calculate the 10-\n",
    "month simple moving average using the closing price.\n",
    "This is a long-term strategy that rebalances at the market open on the first day of the\n",
    "month. Zipline’s schedule function makes it simple to set this up. Note we schedule a\n",
    "function called rebalance to run on this schedule. "
   ]
  },
  {
   "cell_type": "code",
   "execution_count": 6,
   "id": "0ac03c89",
   "metadata": {},
   "outputs": [],
   "source": [
    "def rebalance(context, data):\n",
    "    \n",
    "    longs = [\n",
    "        asset\n",
    "        for asset in context.stocks\n",
    "        if data.current(asset, \"price\") > context.sma[asset].mean()\n",
    "    ]\n",
    "\n",
    "    for asset in context.portfolio.positions:\n",
    "        if asset not in longs and data.can_trade(asset):\n",
    "            order_target_percent(asset, 0)\n",
    "\n",
    "    for asset in longs:\n",
    "        if data.can_trade(asset):\n",
    "            order_target_percent(asset, 1.0 / len(longs))"
   ]
  },
  {
   "cell_type": "markdown",
   "id": "f691e09b",
   "metadata": {},
   "source": [
    "On the first trading day of every month, the logic checks if the current price is greater than\n",
    "the 10-month simple moving average. If so, it adds the symbol to a list.\n",
    "The next step sets a target of 0% for those assets with a price that does not exceed the 10-\n",
    "month simple moving average.\n",
    "Finally, we equal-weight the portfolio with the ETFs that are trending"
   ]
  },
  {
   "cell_type": "code",
   "execution_count": 76,
   "id": "84c499c3",
   "metadata": {},
   "outputs": [],
   "source": [
    "######### The below code is just a test to check yahoo csv ingest ##################### \n",
    "# %matplotlib inline\n",
    "\n",
    "# from zipline import run_algorithm \n",
    "# from zipline.api import order_target_percent, symbol, set_commission\n",
    "# from zipline.finance.commission import PerTrade\n",
    "# import pandas as pd\n",
    "# import pyfolio as pf\n",
    "\n",
    "# import warnings\n",
    "# warnings.filterwarnings('ignore')\n",
    "\n",
    "# def initialize(context): \n",
    "#     context.stock = symbol('AAPL')\n",
    "#     context.rolling_window = 90\n",
    "#     set_commission(PerTrade(cost=5))     \n",
    "\n",
    "# def handle_data(context, data): \n",
    "#     price_hist = data.history(context.stock, \"close\", context.rolling_window, \"1d\")          \n",
    "    \n",
    "#     rolling_mean_short_term = price_hist.ewm(span=5,adjust=True,ignore_na=True).mean()\n",
    "#     rolling_mean_long_term = price_hist.ewm(span=30,adjust=True,ignore_na=True).mean()\n",
    "    \n",
    "#     if rolling_mean_short_term[-1] > rolling_mean_long_term[-1]:\n",
    "#         order_target_percent(context.stock, 1.0)     \n",
    "#     elif rolling_mean_short_term[-1] < rolling_mean_long_term[-1]:\n",
    "#         order_target_percent(context.stock, 0.0)     \n",
    "\n",
    "# def analyze(context, perf): \n",
    "#     returns, positions, transactions = pf.utils.extract_rets_pos_txn_from_zipline(perf) \n",
    "#     pf.create_returns_tear_sheet(returns, benchmark_rets = None)\n",
    "    \n",
    "# # start_date = pd.to_datetime('2000-1-1', utc=True)\n",
    "# # end_date = pd.to_datetime('2018-1-1', utc=True)\n",
    "# start_date = pd.Timestamp('2000-1-1')\n",
    "# end_date = pd.Timestamp('2018-1-1')\n",
    "    \n",
    "# results = run_algorithm(start = start_date, end = end_date, initialize = initialize, \n",
    "#                         analyze = analyze, handle_data = handle_data, capital_base = 10000, \n",
    "#                         data_frequency = 'daily', \n",
    "#                         #bundle ='quandl'\n",
    "#                         bundle ='yahoo_csv'\n",
    "#                        )"
   ]
  },
  {
   "cell_type": "code",
   "execution_count": 7,
   "id": "e9dd2de2",
   "metadata": {},
   "outputs": [
    {
     "ename": "ValueError",
     "evalue": "'nan' is not a valid variable name",
     "output_type": "error",
     "traceback": [
      "\u001b[1;31m---------------------------------------------------------------------------\u001b[0m",
      "\u001b[1;31mKeyError\u001b[0m                                  Traceback (most recent call last)",
      "File \u001b[1;32m~\\anaconda3\\envs\\env_zipline\\lib\\site-packages\\zipline\\pipeline\\term.py:156\u001b[0m, in \u001b[0;36mTerm.__new__\u001b[1;34m(cls, domain, dtype, missing_value, window_safe, ndim, *args, **kwargs)\u001b[0m\n\u001b[0;32m    155\u001b[0m \u001b[38;5;28;01mtry\u001b[39;00m:\n\u001b[1;32m--> 156\u001b[0m     \u001b[38;5;28;01mreturn\u001b[39;00m \u001b[38;5;28;43mcls\u001b[39;49m\u001b[38;5;241;43m.\u001b[39;49m\u001b[43m_term_cache\u001b[49m\u001b[43m[\u001b[49m\u001b[43midentity\u001b[49m\u001b[43m]\u001b[49m\n\u001b[0;32m    157\u001b[0m \u001b[38;5;28;01mexcept\u001b[39;00m \u001b[38;5;167;01mKeyError\u001b[39;00m:\n",
      "File \u001b[1;32m~\\anaconda3\\envs\\env_zipline\\lib\\weakref.py:137\u001b[0m, in \u001b[0;36mWeakValueDictionary.__getitem__\u001b[1;34m(self, key)\u001b[0m\n\u001b[0;32m    136\u001b[0m     \u001b[38;5;28mself\u001b[39m\u001b[38;5;241m.\u001b[39m_commit_removals()\n\u001b[1;32m--> 137\u001b[0m o \u001b[38;5;241m=\u001b[39m \u001b[38;5;28;43mself\u001b[39;49m\u001b[38;5;241;43m.\u001b[39;49m\u001b[43mdata\u001b[49m\u001b[43m[\u001b[49m\u001b[43mkey\u001b[49m\u001b[43m]\u001b[49m()\n\u001b[0;32m    138\u001b[0m \u001b[38;5;28;01mif\u001b[39;00m o \u001b[38;5;129;01mis\u001b[39;00m \u001b[38;5;28;01mNone\u001b[39;00m:\n",
      "\u001b[1;31mKeyError\u001b[0m: (((<class 'zipline.pipeline.filters.filter.NumExprFilter'>, EquityCalendarDomain('US', 'XNYS'), dtype('bool'), False, True, 2, ()), (SimpleMovingAverage(...).mean(),), sentinel('NotSpecified'), 0, AssetExists()), 'x_0 < (nan)')",
      "\nDuring handling of the above exception, another exception occurred:\n",
      "\u001b[1;31mValueError\u001b[0m                                Traceback (most recent call last)",
      "Cell \u001b[1;32mIn[7], line 4\u001b[0m\n\u001b[0;32m      1\u001b[0m start \u001b[38;5;241m=\u001b[39m pd\u001b[38;5;241m.\u001b[39mTimestamp(\u001b[38;5;124m\"\u001b[39m\u001b[38;5;124m2000\u001b[39m\u001b[38;5;124m\"\u001b[39m)\n\u001b[0;32m      2\u001b[0m end \u001b[38;5;241m=\u001b[39m pd\u001b[38;5;241m.\u001b[39mTimestamp(\u001b[38;5;124m\"\u001b[39m\u001b[38;5;124m2015-12-30\u001b[39m\u001b[38;5;124m\"\u001b[39m)\n\u001b[1;32m----> 4\u001b[0m perf \u001b[38;5;241m=\u001b[39m \u001b[43mrun_algorithm\u001b[49m\u001b[43m(\u001b[49m\n\u001b[0;32m      5\u001b[0m \u001b[43m    \u001b[49m\u001b[43mstart\u001b[49m\u001b[38;5;241;43m=\u001b[39;49m\u001b[43mstart\u001b[49m\u001b[43m,\u001b[49m\n\u001b[0;32m      6\u001b[0m \u001b[43m    \u001b[49m\u001b[43mend\u001b[49m\u001b[38;5;241;43m=\u001b[39;49m\u001b[43mend\u001b[49m\u001b[43m,\u001b[49m\n\u001b[0;32m      7\u001b[0m \u001b[43m    \u001b[49m\u001b[43minitialize\u001b[49m\u001b[38;5;241;43m=\u001b[39;49m\u001b[43minitialize\u001b[49m\u001b[43m,\u001b[49m\n\u001b[0;32m      8\u001b[0m \u001b[43m    \u001b[49m\u001b[43mcapital_base\u001b[49m\u001b[38;5;241;43m=\u001b[39;49m\u001b[38;5;241;43m100000\u001b[39;49m\u001b[43m,\u001b[49m\n\u001b[0;32m      9\u001b[0m \u001b[38;5;66;43;03m#     bundle=\"quantopian-quandl\"\u001b[39;49;00m\n\u001b[0;32m     10\u001b[0m \u001b[38;5;66;43;03m#     bundle=\"quandl\",\u001b[39;49;00m\n\u001b[0;32m     11\u001b[0m \u001b[38;5;66;43;03m#     bundle=\"yahoo_direct\"\u001b[39;49;00m\n\u001b[0;32m     12\u001b[0m \u001b[43m    \u001b[49m\u001b[43mbundle\u001b[49m\u001b[43m \u001b[49m\u001b[38;5;241;43m=\u001b[39;49m\u001b[43m \u001b[49m\u001b[38;5;124;43m\"\u001b[39;49m\u001b[38;5;124;43myahoo_csv\u001b[39;49m\u001b[38;5;124;43m\"\u001b[39;49m\n\u001b[0;32m     13\u001b[0m \u001b[43m)\u001b[49m\n",
      "File \u001b[1;32m~\\anaconda3\\envs\\env_zipline\\lib\\site-packages\\zipline\\utils\\run_algo.py:399\u001b[0m, in \u001b[0;36mrun_algorithm\u001b[1;34m(start, end, initialize, capital_base, handle_data, before_trading_start, analyze, data_frequency, bundle, bundle_timestamp, trading_calendar, metrics_set, benchmark_returns, default_extension, extensions, strict_extensions, environ, custom_loader, blotter)\u001b[0m\n\u001b[0;32m    395\u001b[0m load_extensions(default_extension, extensions, strict_extensions, environ)\n\u001b[0;32m    397\u001b[0m benchmark_spec \u001b[38;5;241m=\u001b[39m BenchmarkSpec\u001b[38;5;241m.\u001b[39mfrom_returns(benchmark_returns)\n\u001b[1;32m--> 399\u001b[0m \u001b[38;5;28;01mreturn\u001b[39;00m \u001b[43m_run\u001b[49m\u001b[43m(\u001b[49m\n\u001b[0;32m    400\u001b[0m \u001b[43m    \u001b[49m\u001b[43mhandle_data\u001b[49m\u001b[38;5;241;43m=\u001b[39;49m\u001b[43mhandle_data\u001b[49m\u001b[43m,\u001b[49m\n\u001b[0;32m    401\u001b[0m \u001b[43m    \u001b[49m\u001b[43minitialize\u001b[49m\u001b[38;5;241;43m=\u001b[39;49m\u001b[43minitialize\u001b[49m\u001b[43m,\u001b[49m\n\u001b[0;32m    402\u001b[0m \u001b[43m    \u001b[49m\u001b[43mbefore_trading_start\u001b[49m\u001b[38;5;241;43m=\u001b[39;49m\u001b[43mbefore_trading_start\u001b[49m\u001b[43m,\u001b[49m\n\u001b[0;32m    403\u001b[0m \u001b[43m    \u001b[49m\u001b[43manalyze\u001b[49m\u001b[38;5;241;43m=\u001b[39;49m\u001b[43manalyze\u001b[49m\u001b[43m,\u001b[49m\n\u001b[0;32m    404\u001b[0m \u001b[43m    \u001b[49m\u001b[43malgofile\u001b[49m\u001b[38;5;241;43m=\u001b[39;49m\u001b[38;5;28;43;01mNone\u001b[39;49;00m\u001b[43m,\u001b[49m\n\u001b[0;32m    405\u001b[0m \u001b[43m    \u001b[49m\u001b[43malgotext\u001b[49m\u001b[38;5;241;43m=\u001b[39;49m\u001b[38;5;28;43;01mNone\u001b[39;49;00m\u001b[43m,\u001b[49m\n\u001b[0;32m    406\u001b[0m \u001b[43m    \u001b[49m\u001b[43mdefines\u001b[49m\u001b[38;5;241;43m=\u001b[39;49m\u001b[43m(\u001b[49m\u001b[43m)\u001b[49m\u001b[43m,\u001b[49m\n\u001b[0;32m    407\u001b[0m \u001b[43m    \u001b[49m\u001b[43mdata_frequency\u001b[49m\u001b[38;5;241;43m=\u001b[39;49m\u001b[43mdata_frequency\u001b[49m\u001b[43m,\u001b[49m\n\u001b[0;32m    408\u001b[0m \u001b[43m    \u001b[49m\u001b[43mcapital_base\u001b[49m\u001b[38;5;241;43m=\u001b[39;49m\u001b[43mcapital_base\u001b[49m\u001b[43m,\u001b[49m\n\u001b[0;32m    409\u001b[0m \u001b[43m    \u001b[49m\u001b[43mbundle\u001b[49m\u001b[38;5;241;43m=\u001b[39;49m\u001b[43mbundle\u001b[49m\u001b[43m,\u001b[49m\n\u001b[0;32m    410\u001b[0m \u001b[43m    \u001b[49m\u001b[43mbundle_timestamp\u001b[49m\u001b[38;5;241;43m=\u001b[39;49m\u001b[43mbundle_timestamp\u001b[49m\u001b[43m,\u001b[49m\n\u001b[0;32m    411\u001b[0m \u001b[43m    \u001b[49m\u001b[43mstart\u001b[49m\u001b[38;5;241;43m=\u001b[39;49m\u001b[43mstart\u001b[49m\u001b[43m,\u001b[49m\n\u001b[0;32m    412\u001b[0m \u001b[43m    \u001b[49m\u001b[43mend\u001b[49m\u001b[38;5;241;43m=\u001b[39;49m\u001b[43mend\u001b[49m\u001b[43m,\u001b[49m\n\u001b[0;32m    413\u001b[0m \u001b[43m    \u001b[49m\u001b[43moutput\u001b[49m\u001b[38;5;241;43m=\u001b[39;49m\u001b[43mos\u001b[49m\u001b[38;5;241;43m.\u001b[39;49m\u001b[43mdevnull\u001b[49m\u001b[43m,\u001b[49m\n\u001b[0;32m    414\u001b[0m \u001b[43m    \u001b[49m\u001b[43mtrading_calendar\u001b[49m\u001b[38;5;241;43m=\u001b[39;49m\u001b[43mtrading_calendar\u001b[49m\u001b[43m,\u001b[49m\n\u001b[0;32m    415\u001b[0m \u001b[43m    \u001b[49m\u001b[43mprint_algo\u001b[49m\u001b[38;5;241;43m=\u001b[39;49m\u001b[38;5;28;43;01mFalse\u001b[39;49;00m\u001b[43m,\u001b[49m\n\u001b[0;32m    416\u001b[0m \u001b[43m    \u001b[49m\u001b[43mmetrics_set\u001b[49m\u001b[38;5;241;43m=\u001b[39;49m\u001b[43mmetrics_set\u001b[49m\u001b[43m,\u001b[49m\n\u001b[0;32m    417\u001b[0m \u001b[43m    \u001b[49m\u001b[43mlocal_namespace\u001b[49m\u001b[38;5;241;43m=\u001b[39;49m\u001b[38;5;28;43;01mFalse\u001b[39;49;00m\u001b[43m,\u001b[49m\n\u001b[0;32m    418\u001b[0m \u001b[43m    \u001b[49m\u001b[43menviron\u001b[49m\u001b[38;5;241;43m=\u001b[39;49m\u001b[43menviron\u001b[49m\u001b[43m,\u001b[49m\n\u001b[0;32m    419\u001b[0m \u001b[43m    \u001b[49m\u001b[43mblotter\u001b[49m\u001b[38;5;241;43m=\u001b[39;49m\u001b[43mblotter\u001b[49m\u001b[43m,\u001b[49m\n\u001b[0;32m    420\u001b[0m \u001b[43m    \u001b[49m\u001b[43mcustom_loader\u001b[49m\u001b[38;5;241;43m=\u001b[39;49m\u001b[43mcustom_loader\u001b[49m\u001b[43m,\u001b[49m\n\u001b[0;32m    421\u001b[0m \u001b[43m    \u001b[49m\u001b[43mbenchmark_spec\u001b[49m\u001b[38;5;241;43m=\u001b[39;49m\u001b[43mbenchmark_spec\u001b[49m\u001b[43m,\u001b[49m\n\u001b[0;32m    422\u001b[0m \u001b[43m\u001b[49m\u001b[43m)\u001b[49m\n",
      "File \u001b[1;32m~\\anaconda3\\envs\\env_zipline\\lib\\site-packages\\zipline\\utils\\run_algo.py:229\u001b[0m, in \u001b[0;36m_run\u001b[1;34m(handle_data, initialize, before_trading_start, analyze, algofile, algotext, defines, data_frequency, capital_base, bundle, bundle_timestamp, start, end, output, trading_calendar, print_algo, metrics_set, local_namespace, environ, blotter, custom_loader, benchmark_spec)\u001b[0m\n\u001b[0;32m    197\u001b[0m         \u001b[38;5;28;01mraise\u001b[39;00m _RunAlgoError(\u001b[38;5;28mstr\u001b[39m(e))\n\u001b[0;32m    199\u001b[0m \u001b[38;5;28;01mtry\u001b[39;00m:\n\u001b[0;32m    200\u001b[0m     perf \u001b[38;5;241m=\u001b[39m \u001b[43mTradingAlgorithm\u001b[49m\u001b[43m(\u001b[49m\n\u001b[0;32m    201\u001b[0m \u001b[43m        \u001b[49m\u001b[43mnamespace\u001b[49m\u001b[38;5;241;43m=\u001b[39;49m\u001b[43mnamespace\u001b[49m\u001b[43m,\u001b[49m\n\u001b[0;32m    202\u001b[0m \u001b[43m        \u001b[49m\u001b[43mdata_portal\u001b[49m\u001b[38;5;241;43m=\u001b[39;49m\u001b[43mdata\u001b[49m\u001b[43m,\u001b[49m\n\u001b[0;32m    203\u001b[0m \u001b[43m        \u001b[49m\u001b[43mget_pipeline_loader\u001b[49m\u001b[38;5;241;43m=\u001b[39;49m\u001b[43mchoose_loader\u001b[49m\u001b[43m,\u001b[49m\n\u001b[0;32m    204\u001b[0m \u001b[43m        \u001b[49m\u001b[43mtrading_calendar\u001b[49m\u001b[38;5;241;43m=\u001b[39;49m\u001b[43mtrading_calendar\u001b[49m\u001b[43m,\u001b[49m\n\u001b[0;32m    205\u001b[0m \u001b[43m        \u001b[49m\u001b[43msim_params\u001b[49m\u001b[38;5;241;43m=\u001b[39;49m\u001b[43mSimulationParameters\u001b[49m\u001b[43m(\u001b[49m\n\u001b[0;32m    206\u001b[0m \u001b[43m            \u001b[49m\u001b[43mstart_session\u001b[49m\u001b[38;5;241;43m=\u001b[39;49m\u001b[43mstart\u001b[49m\u001b[43m,\u001b[49m\n\u001b[0;32m    207\u001b[0m \u001b[43m            \u001b[49m\u001b[43mend_session\u001b[49m\u001b[38;5;241;43m=\u001b[39;49m\u001b[43mend\u001b[49m\u001b[43m,\u001b[49m\n\u001b[0;32m    208\u001b[0m \u001b[43m            \u001b[49m\u001b[43mtrading_calendar\u001b[49m\u001b[38;5;241;43m=\u001b[39;49m\u001b[43mtrading_calendar\u001b[49m\u001b[43m,\u001b[49m\n\u001b[0;32m    209\u001b[0m \u001b[43m            \u001b[49m\u001b[43mcapital_base\u001b[49m\u001b[38;5;241;43m=\u001b[39;49m\u001b[43mcapital_base\u001b[49m\u001b[43m,\u001b[49m\n\u001b[0;32m    210\u001b[0m \u001b[43m            \u001b[49m\u001b[43mdata_frequency\u001b[49m\u001b[38;5;241;43m=\u001b[39;49m\u001b[43mdata_frequency\u001b[49m\u001b[43m,\u001b[49m\n\u001b[0;32m    211\u001b[0m \u001b[43m        \u001b[49m\u001b[43m)\u001b[49m\u001b[43m,\u001b[49m\n\u001b[0;32m    212\u001b[0m \u001b[43m        \u001b[49m\u001b[43mmetrics_set\u001b[49m\u001b[38;5;241;43m=\u001b[39;49m\u001b[43mmetrics_set\u001b[49m\u001b[43m,\u001b[49m\n\u001b[0;32m    213\u001b[0m \u001b[43m        \u001b[49m\u001b[43mblotter\u001b[49m\u001b[38;5;241;43m=\u001b[39;49m\u001b[43mblotter\u001b[49m\u001b[43m,\u001b[49m\n\u001b[0;32m    214\u001b[0m \u001b[43m        \u001b[49m\u001b[43mbenchmark_returns\u001b[49m\u001b[38;5;241;43m=\u001b[39;49m\u001b[43mbenchmark_returns\u001b[49m\u001b[43m,\u001b[49m\n\u001b[0;32m    215\u001b[0m \u001b[43m        \u001b[49m\u001b[43mbenchmark_sid\u001b[49m\u001b[38;5;241;43m=\u001b[39;49m\u001b[43mbenchmark_sid\u001b[49m\u001b[43m,\u001b[49m\n\u001b[0;32m    216\u001b[0m \u001b[43m        \u001b[49m\u001b[38;5;241;43m*\u001b[39;49m\u001b[38;5;241;43m*\u001b[39;49m\u001b[43m(\u001b[49m\n\u001b[0;32m    217\u001b[0m \u001b[43m            \u001b[49m\u001b[43m{\u001b[49m\n\u001b[0;32m    218\u001b[0m \u001b[43m                \u001b[49m\u001b[38;5;124;43m\"\u001b[39;49m\u001b[38;5;124;43minitialize\u001b[39;49m\u001b[38;5;124;43m\"\u001b[39;49m\u001b[43m:\u001b[49m\u001b[43m \u001b[49m\u001b[43minitialize\u001b[49m\u001b[43m,\u001b[49m\n\u001b[0;32m    219\u001b[0m \u001b[43m                \u001b[49m\u001b[38;5;124;43m\"\u001b[39;49m\u001b[38;5;124;43mhandle_data\u001b[39;49m\u001b[38;5;124;43m\"\u001b[39;49m\u001b[43m:\u001b[49m\u001b[43m \u001b[49m\u001b[43mhandle_data\u001b[49m\u001b[43m,\u001b[49m\n\u001b[0;32m    220\u001b[0m \u001b[43m                \u001b[49m\u001b[38;5;124;43m\"\u001b[39;49m\u001b[38;5;124;43mbefore_trading_start\u001b[39;49m\u001b[38;5;124;43m\"\u001b[39;49m\u001b[43m:\u001b[49m\u001b[43m \u001b[49m\u001b[43mbefore_trading_start\u001b[49m\u001b[43m,\u001b[49m\n\u001b[0;32m    221\u001b[0m \u001b[43m                \u001b[49m\u001b[38;5;124;43m\"\u001b[39;49m\u001b[38;5;124;43manalyze\u001b[39;49m\u001b[38;5;124;43m\"\u001b[39;49m\u001b[43m:\u001b[49m\u001b[43m \u001b[49m\u001b[43manalyze\u001b[49m\u001b[43m,\u001b[49m\n\u001b[0;32m    222\u001b[0m \u001b[43m            \u001b[49m\u001b[43m}\u001b[49m\n\u001b[0;32m    223\u001b[0m \u001b[43m            \u001b[49m\u001b[38;5;28;43;01mif\u001b[39;49;00m\u001b[43m \u001b[49m\u001b[43malgotext\u001b[49m\u001b[43m \u001b[49m\u001b[38;5;129;43;01mis\u001b[39;49;00m\u001b[43m \u001b[49m\u001b[38;5;28;43;01mNone\u001b[39;49;00m\n\u001b[0;32m    224\u001b[0m \u001b[43m            \u001b[49m\u001b[38;5;28;43;01melse\u001b[39;49;00m\u001b[43m \u001b[49m\u001b[43m{\u001b[49m\n\u001b[0;32m    225\u001b[0m \u001b[43m                \u001b[49m\u001b[38;5;124;43m\"\u001b[39;49m\u001b[38;5;124;43malgo_filename\u001b[39;49m\u001b[38;5;124;43m\"\u001b[39;49m\u001b[43m:\u001b[49m\u001b[43m \u001b[49m\u001b[38;5;28;43mgetattr\u001b[39;49m\u001b[43m(\u001b[49m\u001b[43malgofile\u001b[49m\u001b[43m,\u001b[49m\u001b[43m \u001b[49m\u001b[38;5;124;43m\"\u001b[39;49m\u001b[38;5;124;43mname\u001b[39;49m\u001b[38;5;124;43m\"\u001b[39;49m\u001b[43m,\u001b[49m\u001b[43m \u001b[49m\u001b[38;5;124;43m\"\u001b[39;49m\u001b[38;5;124;43m<algorithm>\u001b[39;49m\u001b[38;5;124;43m\"\u001b[39;49m\u001b[43m)\u001b[49m\u001b[43m,\u001b[49m\n\u001b[0;32m    226\u001b[0m \u001b[43m                \u001b[49m\u001b[38;5;124;43m\"\u001b[39;49m\u001b[38;5;124;43mscript\u001b[39;49m\u001b[38;5;124;43m\"\u001b[39;49m\u001b[43m:\u001b[49m\u001b[43m \u001b[49m\u001b[43malgotext\u001b[49m\u001b[43m,\u001b[49m\n\u001b[0;32m    227\u001b[0m \u001b[43m            \u001b[49m\u001b[43m}\u001b[49m\n\u001b[0;32m    228\u001b[0m \u001b[43m        \u001b[49m\u001b[43m)\u001b[49m\u001b[43m,\u001b[49m\n\u001b[1;32m--> 229\u001b[0m \u001b[43m    \u001b[49m\u001b[43m)\u001b[49m\u001b[38;5;241;43m.\u001b[39;49m\u001b[43mrun\u001b[49m\u001b[43m(\u001b[49m\u001b[43m)\u001b[49m\n\u001b[0;32m    230\u001b[0m \u001b[38;5;28;01mexcept\u001b[39;00m NoBenchmark:\n\u001b[0;32m    231\u001b[0m     \u001b[38;5;28;01mraise\u001b[39;00m _RunAlgoError(\n\u001b[0;32m    232\u001b[0m         (\n\u001b[0;32m    233\u001b[0m             \u001b[38;5;124m\"\u001b[39m\u001b[38;5;124mNo ``benchmark_spec`` was provided, and\u001b[39m\u001b[38;5;124m\"\u001b[39m\n\u001b[1;32m   (...)\u001b[0m\n\u001b[0;32m    241\u001b[0m         ),\n\u001b[0;32m    242\u001b[0m     )\n",
      "File \u001b[1;32m~\\anaconda3\\envs\\env_zipline\\lib\\site-packages\\zipline\\algorithm.py:627\u001b[0m, in \u001b[0;36mTradingAlgorithm.run\u001b[1;34m(self, data_portal)\u001b[0m\n\u001b[0;32m    625\u001b[0m \u001b[38;5;28;01mtry\u001b[39;00m:\n\u001b[0;32m    626\u001b[0m     perfs \u001b[38;5;241m=\u001b[39m []\n\u001b[1;32m--> 627\u001b[0m     \u001b[38;5;28;01mfor\u001b[39;00m perf \u001b[38;5;129;01min\u001b[39;00m \u001b[38;5;28mself\u001b[39m\u001b[38;5;241m.\u001b[39mget_generator():\n\u001b[0;32m    628\u001b[0m         perfs\u001b[38;5;241m.\u001b[39mappend(perf)\n\u001b[0;32m    630\u001b[0m     \u001b[38;5;66;03m# convert perf dict to pandas dataframe\u001b[39;00m\n",
      "File \u001b[1;32m~\\anaconda3\\envs\\env_zipline\\lib\\site-packages\\zipline\\gens\\tradesimulation.py:225\u001b[0m, in \u001b[0;36mAlgorithmSimulator.transform\u001b[1;34m(self)\u001b[0m\n\u001b[0;32m    223\u001b[0m \u001b[38;5;28;01mfor\u001b[39;00m dt, action \u001b[38;5;129;01min\u001b[39;00m \u001b[38;5;28mself\u001b[39m\u001b[38;5;241m.\u001b[39mclock:\n\u001b[0;32m    224\u001b[0m     \u001b[38;5;28;01mif\u001b[39;00m action \u001b[38;5;241m==\u001b[39m BAR:\n\u001b[1;32m--> 225\u001b[0m         \u001b[38;5;28;01mfor\u001b[39;00m capital_change_packet \u001b[38;5;129;01min\u001b[39;00m every_bar(dt):\n\u001b[0;32m    226\u001b[0m             \u001b[38;5;28;01myield\u001b[39;00m capital_change_packet\n\u001b[0;32m    227\u001b[0m     \u001b[38;5;28;01melif\u001b[39;00m action \u001b[38;5;241m==\u001b[39m SESSION_START:\n",
      "File \u001b[1;32m~\\anaconda3\\envs\\env_zipline\\lib\\site-packages\\zipline\\gens\\tradesimulation.py:141\u001b[0m, in \u001b[0;36mAlgorithmSimulator.transform.<locals>.every_bar\u001b[1;34m(dt_to_use, current_data, handle_data)\u001b[0m\n\u001b[0;32m    138\u001b[0m \u001b[38;5;28;01mfor\u001b[39;00m commission \u001b[38;5;129;01min\u001b[39;00m new_commissions:\n\u001b[0;32m    139\u001b[0m     metrics_tracker\u001b[38;5;241m.\u001b[39mprocess_commission(commission)\n\u001b[1;32m--> 141\u001b[0m \u001b[43mhandle_data\u001b[49m\u001b[43m(\u001b[49m\u001b[43malgo\u001b[49m\u001b[43m,\u001b[49m\u001b[43m \u001b[49m\u001b[43mcurrent_data\u001b[49m\u001b[43m,\u001b[49m\u001b[43m \u001b[49m\u001b[43mdt_to_use\u001b[49m\u001b[43m)\u001b[49m\n\u001b[0;32m    143\u001b[0m \u001b[38;5;66;03m# grab any new orders from the blotter, then clear the list.\u001b[39;00m\n\u001b[0;32m    144\u001b[0m \u001b[38;5;66;03m# this includes cancelled orders.\u001b[39;00m\n\u001b[0;32m    145\u001b[0m new_orders \u001b[38;5;241m=\u001b[39m blotter\u001b[38;5;241m.\u001b[39mnew_orders\n",
      "File \u001b[1;32m~\\anaconda3\\envs\\env_zipline\\lib\\site-packages\\zipline\\utils\\events.py:201\u001b[0m, in \u001b[0;36mEventManager.handle_data\u001b[1;34m(self, context, data, dt)\u001b[0m\n\u001b[0;32m    199\u001b[0m \u001b[38;5;28;01mwith\u001b[39;00m \u001b[38;5;28mself\u001b[39m\u001b[38;5;241m.\u001b[39m_create_context(data):\n\u001b[0;32m    200\u001b[0m     \u001b[38;5;28;01mfor\u001b[39;00m event \u001b[38;5;129;01min\u001b[39;00m \u001b[38;5;28mself\u001b[39m\u001b[38;5;241m.\u001b[39m_events:\n\u001b[1;32m--> 201\u001b[0m         \u001b[43mevent\u001b[49m\u001b[38;5;241;43m.\u001b[39;49m\u001b[43mhandle_data\u001b[49m\u001b[43m(\u001b[49m\n\u001b[0;32m    202\u001b[0m \u001b[43m            \u001b[49m\u001b[43mcontext\u001b[49m\u001b[43m,\u001b[49m\n\u001b[0;32m    203\u001b[0m \u001b[43m            \u001b[49m\u001b[43mdata\u001b[49m\u001b[43m,\u001b[49m\n\u001b[0;32m    204\u001b[0m \u001b[43m            \u001b[49m\u001b[43mdt\u001b[49m\u001b[43m,\u001b[49m\n\u001b[0;32m    205\u001b[0m \u001b[43m        \u001b[49m\u001b[43m)\u001b[49m\n",
      "File \u001b[1;32m~\\anaconda3\\envs\\env_zipline\\lib\\site-packages\\zipline\\utils\\events.py:224\u001b[0m, in \u001b[0;36mEvent.handle_data\u001b[1;34m(self, context, data, dt)\u001b[0m\n\u001b[0;32m    220\u001b[0m \u001b[38;5;250m\u001b[39m\u001b[38;5;124;03m\"\"\"\u001b[39;00m\n\u001b[0;32m    221\u001b[0m \u001b[38;5;124;03mCalls the callable only when the rule is triggered.\u001b[39;00m\n\u001b[0;32m    222\u001b[0m \u001b[38;5;124;03m\"\"\"\u001b[39;00m\n\u001b[0;32m    223\u001b[0m \u001b[38;5;28;01mif\u001b[39;00m \u001b[38;5;28mself\u001b[39m\u001b[38;5;241m.\u001b[39mrule\u001b[38;5;241m.\u001b[39mshould_trigger(dt):\n\u001b[1;32m--> 224\u001b[0m     \u001b[38;5;28;43mself\u001b[39;49m\u001b[38;5;241;43m.\u001b[39;49m\u001b[43mcallback\u001b[49m\u001b[43m(\u001b[49m\u001b[43mcontext\u001b[49m\u001b[43m,\u001b[49m\u001b[43m \u001b[49m\u001b[43mdata\u001b[49m\u001b[43m)\u001b[49m\n",
      "Cell \u001b[1;32mIn[6], line 3\u001b[0m, in \u001b[0;36mrebalance\u001b[1;34m(context, data)\u001b[0m\n\u001b[0;32m      1\u001b[0m \u001b[38;5;28;01mdef\u001b[39;00m \u001b[38;5;21mrebalance\u001b[39m(context, data):\n\u001b[1;32m----> 3\u001b[0m     longs \u001b[38;5;241m=\u001b[39m [\n\u001b[0;32m      4\u001b[0m         asset\n\u001b[0;32m      5\u001b[0m         \u001b[38;5;28;01mfor\u001b[39;00m asset \u001b[38;5;129;01min\u001b[39;00m context\u001b[38;5;241m.\u001b[39mstocks\n\u001b[0;32m      6\u001b[0m         \u001b[38;5;28;01mif\u001b[39;00m data\u001b[38;5;241m.\u001b[39mcurrent(asset, \u001b[38;5;124m\"\u001b[39m\u001b[38;5;124mprice\u001b[39m\u001b[38;5;124m\"\u001b[39m) \u001b[38;5;241m>\u001b[39m context\u001b[38;5;241m.\u001b[39msma[asset]\u001b[38;5;241m.\u001b[39mmean()\n\u001b[0;32m      7\u001b[0m     ]\n\u001b[0;32m      9\u001b[0m     \u001b[38;5;28;01mfor\u001b[39;00m asset \u001b[38;5;129;01min\u001b[39;00m context\u001b[38;5;241m.\u001b[39mportfolio\u001b[38;5;241m.\u001b[39mpositions:\n\u001b[0;32m     10\u001b[0m         \u001b[38;5;28;01mif\u001b[39;00m asset \u001b[38;5;129;01mnot\u001b[39;00m \u001b[38;5;129;01min\u001b[39;00m longs \u001b[38;5;129;01mand\u001b[39;00m data\u001b[38;5;241m.\u001b[39mcan_trade(asset):\n",
      "Cell \u001b[1;32mIn[6], line 6\u001b[0m, in \u001b[0;36m<listcomp>\u001b[1;34m(.0)\u001b[0m\n\u001b[0;32m      1\u001b[0m \u001b[38;5;28;01mdef\u001b[39;00m \u001b[38;5;21mrebalance\u001b[39m(context, data):\n\u001b[0;32m      3\u001b[0m     longs \u001b[38;5;241m=\u001b[39m [\n\u001b[0;32m      4\u001b[0m         asset\n\u001b[0;32m      5\u001b[0m         \u001b[38;5;28;01mfor\u001b[39;00m asset \u001b[38;5;129;01min\u001b[39;00m context\u001b[38;5;241m.\u001b[39mstocks\n\u001b[1;32m----> 6\u001b[0m         \u001b[38;5;28;01mif\u001b[39;00m \u001b[43mdata\u001b[49m\u001b[38;5;241;43m.\u001b[39;49m\u001b[43mcurrent\u001b[49m\u001b[43m(\u001b[49m\u001b[43masset\u001b[49m\u001b[43m,\u001b[49m\u001b[43m \u001b[49m\u001b[38;5;124;43m\"\u001b[39;49m\u001b[38;5;124;43mprice\u001b[39;49m\u001b[38;5;124;43m\"\u001b[39;49m\u001b[43m)\u001b[49m\u001b[43m \u001b[49m\u001b[38;5;241;43m>\u001b[39;49m\u001b[43m \u001b[49m\u001b[43mcontext\u001b[49m\u001b[38;5;241;43m.\u001b[39;49m\u001b[43msma\u001b[49m\u001b[43m[\u001b[49m\u001b[43masset\u001b[49m\u001b[43m]\u001b[49m\u001b[38;5;241;43m.\u001b[39;49m\u001b[43mmean\u001b[49m\u001b[43m(\u001b[49m\u001b[43m)\u001b[49m\n\u001b[0;32m      7\u001b[0m     ]\n\u001b[0;32m      9\u001b[0m     \u001b[38;5;28;01mfor\u001b[39;00m asset \u001b[38;5;129;01min\u001b[39;00m context\u001b[38;5;241m.\u001b[39mportfolio\u001b[38;5;241m.\u001b[39mpositions:\n\u001b[0;32m     10\u001b[0m         \u001b[38;5;28;01mif\u001b[39;00m asset \u001b[38;5;129;01mnot\u001b[39;00m \u001b[38;5;129;01min\u001b[39;00m longs \u001b[38;5;129;01mand\u001b[39;00m data\u001b[38;5;241m.\u001b[39mcan_trade(asset):\n",
      "File \u001b[1;32m~\\anaconda3\\envs\\env_zipline\\lib\\site-packages\\zipline\\pipeline\\factors\\factor.py:99\u001b[0m, in \u001b[0;36mcoerce_numbers_to_my_dtype.<locals>.method\u001b[1;34m(self, other)\u001b[0m\n\u001b[0;32m     97\u001b[0m \u001b[38;5;28;01mif\u001b[39;00m \u001b[38;5;28misinstance\u001b[39m(other, Number):\n\u001b[0;32m     98\u001b[0m     other \u001b[38;5;241m=\u001b[39m coerce_to_dtype(\u001b[38;5;28mself\u001b[39m\u001b[38;5;241m.\u001b[39mdtype, other)\n\u001b[1;32m---> 99\u001b[0m \u001b[38;5;28;01mreturn\u001b[39;00m \u001b[43mf\u001b[49m\u001b[43m(\u001b[49m\u001b[38;5;28;43mself\u001b[39;49m\u001b[43m,\u001b[49m\u001b[43m \u001b[49m\u001b[43mother\u001b[49m\u001b[43m)\u001b[49m\n",
      "File \u001b[1;32m~\\anaconda3\\envs\\env_zipline\\lib\\site-packages\\zipline\\pipeline\\factors\\factor.py:238\u001b[0m, in \u001b[0;36mbinary_operator.<locals>.binary_operator\u001b[1;34m(self, other)\u001b[0m\n\u001b[0;32m    232\u001b[0m     \u001b[38;5;28;01mreturn\u001b[39;00m return_type(\n\u001b[0;32m    233\u001b[0m         \u001b[38;5;124m\"\u001b[39m\u001b[38;5;124mx_0 \u001b[39m\u001b[38;5;132;01m{op}\u001b[39;00m\u001b[38;5;124m x_1\u001b[39m\u001b[38;5;124m\"\u001b[39m\u001b[38;5;241m.\u001b[39mformat(op\u001b[38;5;241m=\u001b[39mop),\n\u001b[0;32m    234\u001b[0m         (\u001b[38;5;28mself\u001b[39m, other),\n\u001b[0;32m    235\u001b[0m         dtype\u001b[38;5;241m=\u001b[39mbinop_return_dtype(op, \u001b[38;5;28mself\u001b[39m\u001b[38;5;241m.\u001b[39mdtype, other\u001b[38;5;241m.\u001b[39mdtype),\n\u001b[0;32m    236\u001b[0m     )\n\u001b[0;32m    237\u001b[0m \u001b[38;5;28;01melif\u001b[39;00m \u001b[38;5;28misinstance\u001b[39m(other, Number):\n\u001b[1;32m--> 238\u001b[0m     \u001b[38;5;28;01mreturn\u001b[39;00m \u001b[43mreturn_type\u001b[49m\u001b[43m(\u001b[49m\n\u001b[0;32m    239\u001b[0m \u001b[43m        \u001b[49m\u001b[38;5;124;43m\"\u001b[39;49m\u001b[38;5;124;43mx_0 \u001b[39;49m\u001b[38;5;132;43;01m{op}\u001b[39;49;00m\u001b[38;5;124;43m (\u001b[39;49m\u001b[38;5;132;43;01m{constant}\u001b[39;49;00m\u001b[38;5;124;43m)\u001b[39;49m\u001b[38;5;124;43m\"\u001b[39;49m\u001b[38;5;241;43m.\u001b[39;49m\u001b[43mformat\u001b[49m\u001b[43m(\u001b[49m\u001b[43mop\u001b[49m\u001b[38;5;241;43m=\u001b[39;49m\u001b[43mop\u001b[49m\u001b[43m,\u001b[49m\u001b[43m \u001b[49m\u001b[43mconstant\u001b[49m\u001b[38;5;241;43m=\u001b[39;49m\u001b[43mother\u001b[49m\u001b[43m)\u001b[49m\u001b[43m,\u001b[49m\n\u001b[0;32m    240\u001b[0m \u001b[43m        \u001b[49m\u001b[43mbinds\u001b[49m\u001b[38;5;241;43m=\u001b[39;49m\u001b[43m(\u001b[49m\u001b[38;5;28;43mself\u001b[39;49m\u001b[43m,\u001b[49m\u001b[43m)\u001b[49m\u001b[43m,\u001b[49m\n\u001b[0;32m    241\u001b[0m \u001b[43m        \u001b[49m\u001b[38;5;66;43;03m# .dtype access is safe here because coerce_numbers_to_my_dtype\u001b[39;49;00m\n\u001b[0;32m    242\u001b[0m \u001b[43m        \u001b[49m\u001b[38;5;66;43;03m# will convert any input numbers to numpy equivalents.\u001b[39;49;00m\n\u001b[0;32m    243\u001b[0m \u001b[43m        \u001b[49m\u001b[43mdtype\u001b[49m\u001b[38;5;241;43m=\u001b[39;49m\u001b[43mbinop_return_dtype\u001b[49m\u001b[43m(\u001b[49m\u001b[43mop\u001b[49m\u001b[43m,\u001b[49m\u001b[43m \u001b[49m\u001b[38;5;28;43mself\u001b[39;49m\u001b[38;5;241;43m.\u001b[39;49m\u001b[43mdtype\u001b[49m\u001b[43m,\u001b[49m\u001b[43m \u001b[49m\u001b[43mother\u001b[49m\u001b[38;5;241;43m.\u001b[39;49m\u001b[43mdtype\u001b[49m\u001b[43m)\u001b[49m\u001b[43m,\u001b[49m\n\u001b[0;32m    244\u001b[0m \u001b[43m    \u001b[49m\u001b[43m)\u001b[49m\n\u001b[0;32m    245\u001b[0m \u001b[38;5;28;01mraise\u001b[39;00m BadBinaryOperator(op, \u001b[38;5;28mself\u001b[39m, other)\n",
      "File \u001b[1;32m~\\anaconda3\\envs\\env_zipline\\lib\\site-packages\\zipline\\pipeline\\expression.py:197\u001b[0m, in \u001b[0;36mNumericalExpression.__new__\u001b[1;34m(cls, expr, binds, dtype)\u001b[0m\n\u001b[0;32m    191\u001b[0m \u001b[38;5;28;01mdef\u001b[39;00m \u001b[38;5;21m__new__\u001b[39m(\u001b[38;5;28mcls\u001b[39m, expr, binds, dtype):\n\u001b[0;32m    192\u001b[0m     \u001b[38;5;66;03m# We always allow filters to be used in windowed computations.\u001b[39;00m\n\u001b[0;32m    193\u001b[0m     \u001b[38;5;66;03m# Otherwise, an expression is window_safe if all its constituents are\u001b[39;00m\n\u001b[0;32m    194\u001b[0m     \u001b[38;5;66;03m# window_safe.\u001b[39;00m\n\u001b[0;32m    195\u001b[0m     window_safe \u001b[38;5;241m=\u001b[39m (dtype \u001b[38;5;241m==\u001b[39m bool_dtype) \u001b[38;5;129;01mor\u001b[39;00m \u001b[38;5;28mall\u001b[39m(t\u001b[38;5;241m.\u001b[39mwindow_safe \u001b[38;5;28;01mfor\u001b[39;00m t \u001b[38;5;129;01min\u001b[39;00m binds)\n\u001b[1;32m--> 197\u001b[0m     \u001b[38;5;28;01mreturn\u001b[39;00m \u001b[38;5;28;43msuper\u001b[39;49m\u001b[43m(\u001b[49m\u001b[43mNumericalExpression\u001b[49m\u001b[43m,\u001b[49m\u001b[43m \u001b[49m\u001b[38;5;28;43mcls\u001b[39;49m\u001b[43m)\u001b[49m\u001b[38;5;241;43m.\u001b[39;49m\u001b[38;5;21;43m__new__\u001b[39;49m\u001b[43m(\u001b[49m\n\u001b[0;32m    198\u001b[0m \u001b[43m        \u001b[49m\u001b[38;5;28;43mcls\u001b[39;49m\u001b[43m,\u001b[49m\n\u001b[0;32m    199\u001b[0m \u001b[43m        \u001b[49m\u001b[43minputs\u001b[49m\u001b[38;5;241;43m=\u001b[39;49m\u001b[43mbinds\u001b[49m\u001b[43m,\u001b[49m\n\u001b[0;32m    200\u001b[0m \u001b[43m        \u001b[49m\u001b[43mexpr\u001b[49m\u001b[38;5;241;43m=\u001b[39;49m\u001b[43mexpr\u001b[49m\u001b[43m,\u001b[49m\n\u001b[0;32m    201\u001b[0m \u001b[43m        \u001b[49m\u001b[43mdtype\u001b[49m\u001b[38;5;241;43m=\u001b[39;49m\u001b[43mdtype\u001b[49m\u001b[43m,\u001b[49m\n\u001b[0;32m    202\u001b[0m \u001b[43m        \u001b[49m\u001b[43mwindow_safe\u001b[49m\u001b[38;5;241;43m=\u001b[39;49m\u001b[43mwindow_safe\u001b[49m\u001b[43m,\u001b[49m\n\u001b[0;32m    203\u001b[0m \u001b[43m    \u001b[49m\u001b[43m)\u001b[49m\n",
      "File \u001b[1;32m~\\anaconda3\\envs\\env_zipline\\lib\\site-packages\\zipline\\pipeline\\term.py:540\u001b[0m, in \u001b[0;36mComputableTerm.__new__\u001b[1;34m(cls, inputs, outputs, window_length, mask, domain, *args, **kwargs)\u001b[0m\n\u001b[0;32m    537\u001b[0m \u001b[38;5;28;01mif\u001b[39;00m window_length \u001b[38;5;129;01mis\u001b[39;00m NotSpecified:\n\u001b[0;32m    538\u001b[0m     window_length \u001b[38;5;241m=\u001b[39m \u001b[38;5;28mcls\u001b[39m\u001b[38;5;241m.\u001b[39mwindow_length\n\u001b[1;32m--> 540\u001b[0m \u001b[38;5;28;01mreturn\u001b[39;00m \u001b[38;5;28msuper\u001b[39m(ComputableTerm, \u001b[38;5;28mcls\u001b[39m)\u001b[38;5;241m.\u001b[39m\u001b[38;5;21m__new__\u001b[39m(\n\u001b[0;32m    541\u001b[0m     \u001b[38;5;28mcls\u001b[39m,\n\u001b[0;32m    542\u001b[0m     inputs\u001b[38;5;241m=\u001b[39minputs,\n\u001b[0;32m    543\u001b[0m     outputs\u001b[38;5;241m=\u001b[39moutputs,\n\u001b[0;32m    544\u001b[0m     mask\u001b[38;5;241m=\u001b[39mmask,\n\u001b[0;32m    545\u001b[0m     window_length\u001b[38;5;241m=\u001b[39mwindow_length,\n\u001b[0;32m    546\u001b[0m     domain\u001b[38;5;241m=\u001b[39mdomain,\n\u001b[0;32m    547\u001b[0m     \u001b[38;5;241m*\u001b[39margs,\n\u001b[0;32m    548\u001b[0m     \u001b[38;5;241m*\u001b[39m\u001b[38;5;241m*\u001b[39mkwargs,\n\u001b[0;32m    549\u001b[0m )\n",
      "File \u001b[1;32m~\\anaconda3\\envs\\env_zipline\\lib\\site-packages\\zipline\\pipeline\\term.py:159\u001b[0m, in \u001b[0;36mTerm.__new__\u001b[1;34m(cls, domain, dtype, missing_value, window_safe, ndim, *args, **kwargs)\u001b[0m\n\u001b[0;32m    156\u001b[0m     \u001b[38;5;28;01mreturn\u001b[39;00m \u001b[38;5;28mcls\u001b[39m\u001b[38;5;241m.\u001b[39m_term_cache[identity]\n\u001b[0;32m    157\u001b[0m \u001b[38;5;28;01mexcept\u001b[39;00m \u001b[38;5;167;01mKeyError\u001b[39;00m:\n\u001b[0;32m    158\u001b[0m     new_instance \u001b[38;5;241m=\u001b[39m \u001b[38;5;28mcls\u001b[39m\u001b[38;5;241m.\u001b[39m_term_cache[identity] \u001b[38;5;241m=\u001b[39m (\n\u001b[1;32m--> 159\u001b[0m         \u001b[38;5;28msuper\u001b[39m(Term, \u001b[38;5;28mcls\u001b[39m)\n\u001b[0;32m    160\u001b[0m         \u001b[38;5;241m.\u001b[39m\u001b[38;5;21m__new__\u001b[39m(\u001b[38;5;28mcls\u001b[39m)\n\u001b[0;32m    161\u001b[0m         \u001b[38;5;241m.\u001b[39m_init(\n\u001b[0;32m    162\u001b[0m             domain\u001b[38;5;241m=\u001b[39mdomain,\n\u001b[0;32m    163\u001b[0m             dtype\u001b[38;5;241m=\u001b[39mdtype,\n\u001b[0;32m    164\u001b[0m             missing_value\u001b[38;5;241m=\u001b[39mmissing_value,\n\u001b[0;32m    165\u001b[0m             window_safe\u001b[38;5;241m=\u001b[39mwindow_safe,\n\u001b[0;32m    166\u001b[0m             ndim\u001b[38;5;241m=\u001b[39mndim,\n\u001b[0;32m    167\u001b[0m             params\u001b[38;5;241m=\u001b[39mparams,\n\u001b[0;32m    168\u001b[0m             \u001b[38;5;241m*\u001b[39margs,\n\u001b[0;32m    169\u001b[0m             \u001b[38;5;241m*\u001b[39m\u001b[38;5;241m*\u001b[39mkwargs,\n\u001b[0;32m    170\u001b[0m         )\n\u001b[0;32m    171\u001b[0m     )\n\u001b[0;32m    172\u001b[0m     \u001b[38;5;28;01mreturn\u001b[39;00m new_instance\n",
      "File \u001b[1;32m~\\anaconda3\\envs\\env_zipline\\lib\\site-packages\\zipline\\pipeline\\expression.py:207\u001b[0m, in \u001b[0;36mNumericalExpression._init\u001b[1;34m(self, expr, *args, **kwargs)\u001b[0m\n\u001b[0;32m    205\u001b[0m \u001b[38;5;28;01mdef\u001b[39;00m \u001b[38;5;21m_init\u001b[39m(\u001b[38;5;28mself\u001b[39m, expr, \u001b[38;5;241m*\u001b[39margs, \u001b[38;5;241m*\u001b[39m\u001b[38;5;241m*\u001b[39mkwargs):\n\u001b[0;32m    206\u001b[0m     \u001b[38;5;28mself\u001b[39m\u001b[38;5;241m.\u001b[39m_expr \u001b[38;5;241m=\u001b[39m expr\n\u001b[1;32m--> 207\u001b[0m     \u001b[38;5;28;01mreturn\u001b[39;00m \u001b[38;5;28msuper\u001b[39m(NumericalExpression, \u001b[38;5;28mself\u001b[39m)\u001b[38;5;241m.\u001b[39m_init(\u001b[38;5;241m*\u001b[39margs, \u001b[38;5;241m*\u001b[39m\u001b[38;5;241m*\u001b[39mkwargs)\n",
      "File \u001b[1;32m~\\anaconda3\\envs\\env_zipline\\lib\\site-packages\\zipline\\pipeline\\term.py:556\u001b[0m, in \u001b[0;36mComputableTerm._init\u001b[1;34m(self, inputs, outputs, window_length, mask, *args, **kwargs)\u001b[0m\n\u001b[0;32m    554\u001b[0m \u001b[38;5;28mself\u001b[39m\u001b[38;5;241m.\u001b[39mwindow_length \u001b[38;5;241m=\u001b[39m window_length\n\u001b[0;32m    555\u001b[0m \u001b[38;5;28mself\u001b[39m\u001b[38;5;241m.\u001b[39mmask \u001b[38;5;241m=\u001b[39m mask\n\u001b[1;32m--> 556\u001b[0m \u001b[38;5;28;01mreturn\u001b[39;00m \u001b[38;5;28msuper\u001b[39m(ComputableTerm, \u001b[38;5;28mself\u001b[39m)\u001b[38;5;241m.\u001b[39m_init(\u001b[38;5;241m*\u001b[39margs, \u001b[38;5;241m*\u001b[39m\u001b[38;5;241m*\u001b[39mkwargs)\n",
      "File \u001b[1;32m~\\anaconda3\\envs\\env_zipline\\lib\\site-packages\\zipline\\pipeline\\term.py:309\u001b[0m, in \u001b[0;36mTerm._init\u001b[1;34m(self, domain, dtype, missing_value, window_safe, ndim, params)\u001b[0m\n\u001b[0;32m    305\u001b[0m \u001b[38;5;66;03m# Make sure that subclasses call super() in their _validate() methods\u001b[39;00m\n\u001b[0;32m    306\u001b[0m \u001b[38;5;66;03m# by setting this flag.  The base class implementation of _validate\u001b[39;00m\n\u001b[0;32m    307\u001b[0m \u001b[38;5;66;03m# should set this flag to True.\u001b[39;00m\n\u001b[0;32m    308\u001b[0m \u001b[38;5;28mself\u001b[39m\u001b[38;5;241m.\u001b[39m_subclass_called_super_validate \u001b[38;5;241m=\u001b[39m \u001b[38;5;28;01mFalse\u001b[39;00m\n\u001b[1;32m--> 309\u001b[0m \u001b[38;5;28;43mself\u001b[39;49m\u001b[38;5;241;43m.\u001b[39;49m\u001b[43m_validate\u001b[49m\u001b[43m(\u001b[49m\u001b[43m)\u001b[49m\n\u001b[0;32m    310\u001b[0m \u001b[38;5;28;01massert\u001b[39;00m \u001b[38;5;28mself\u001b[39m\u001b[38;5;241m.\u001b[39m_subclass_called_super_validate, (\n\u001b[0;32m    311\u001b[0m     \u001b[38;5;124m\"\u001b[39m\u001b[38;5;124mTerm._validate() was not called.\u001b[39m\u001b[38;5;130;01m\\n\u001b[39;00m\u001b[38;5;124m\"\u001b[39m\n\u001b[0;32m    312\u001b[0m     \u001b[38;5;124m\"\u001b[39m\u001b[38;5;124mThis probably means that you overrode _validate\u001b[39m\u001b[38;5;124m\"\u001b[39m\n\u001b[0;32m    313\u001b[0m     \u001b[38;5;124m\"\u001b[39m\u001b[38;5;124m without calling super().\u001b[39m\u001b[38;5;124m\"\u001b[39m\n\u001b[0;32m    314\u001b[0m )\n\u001b[0;32m    315\u001b[0m \u001b[38;5;28;01mdel\u001b[39;00m \u001b[38;5;28mself\u001b[39m\u001b[38;5;241m.\u001b[39m_subclass_called_super_validate\n",
      "File \u001b[1;32m~\\anaconda3\\envs\\env_zipline\\lib\\site-packages\\zipline\\pipeline\\expression.py:228\u001b[0m, in \u001b[0;36mNumericalExpression._validate\u001b[1;34m(self)\u001b[0m\n\u001b[0;32m    226\u001b[0m     match \u001b[38;5;241m=\u001b[39m _VARIABLE_NAME_RE\u001b[38;5;241m.\u001b[39mmatch(name)\n\u001b[0;32m    227\u001b[0m     \u001b[38;5;28;01mif\u001b[39;00m \u001b[38;5;129;01mnot\u001b[39;00m match:\n\u001b[1;32m--> 228\u001b[0m         \u001b[38;5;28;01mraise\u001b[39;00m \u001b[38;5;167;01mValueError\u001b[39;00m(\u001b[38;5;124m\"\u001b[39m\u001b[38;5;132;01m%r\u001b[39;00m\u001b[38;5;124m is not a valid variable name\u001b[39m\u001b[38;5;124m\"\u001b[39m \u001b[38;5;241m%\u001b[39m name)\n\u001b[0;32m    229\u001b[0m     expr_indices\u001b[38;5;241m.\u001b[39mappend(\u001b[38;5;28mint\u001b[39m(match\u001b[38;5;241m.\u001b[39mgroup(\u001b[38;5;241m2\u001b[39m)))\n\u001b[0;32m    231\u001b[0m expr_indices\u001b[38;5;241m.\u001b[39msort()\n",
      "\u001b[1;31mValueError\u001b[0m: 'nan' is not a valid variable name"
     ]
    }
   ],
   "source": [
    "start = pd.Timestamp(\"2000\")\n",
    "end = pd.Timestamp(\"2015-12-30\")\n",
    "\n",
    "perf = run_algorithm(\n",
    "    start=start,\n",
    "    end=end,\n",
    "    initialize=initialize,\n",
    "    capital_base=100000,\n",
    "#     bundle=\"quantopian-quandl\"\n",
    "#     bundle=\"quandl\",\n",
    "#     bundle=\"yahoo_direct\"\n",
    "    bundle = \"yahoo_csv\"\n",
    ")"
   ]
  },
  {
   "cell_type": "code",
   "execution_count": 67,
   "id": "199c73a5",
   "metadata": {},
   "outputs": [
    {
     "ename": "AttributeError",
     "evalue": "'DataFrame' object has no attribute 'amount'",
     "output_type": "error",
     "traceback": [
      "\u001b[1;31m---------------------------------------------------------------------------\u001b[0m",
      "\u001b[1;31mAttributeError\u001b[0m                            Traceback (most recent call last)",
      "\u001b[1;32m~\\AppData\\Local\\Temp\\tmpqlemydvc\\ipykernel_2156\\1679155468.py\u001b[0m in \u001b[0;36m?\u001b[1;34m()\u001b[0m\n\u001b[0;32m      1\u001b[0m \u001b[0mreturns\u001b[0m\u001b[1;33m,\u001b[0m \u001b[0mpositions\u001b[0m\u001b[1;33m,\u001b[0m \u001b[0mtransactions\u001b[0m \u001b[1;33m=\u001b[0m\u001b[0;31m \u001b[0m\u001b[0;31m\\\u001b[0m\u001b[1;33m\u001b[0m\u001b[1;33m\u001b[0m\u001b[0m\n\u001b[1;32m----> 2\u001b[1;33m     \u001b[0mpf\u001b[0m\u001b[1;33m.\u001b[0m\u001b[0mutils\u001b[0m\u001b[1;33m.\u001b[0m\u001b[0mextract_rets_pos_txn_from_zipline\u001b[0m\u001b[1;33m(\u001b[0m\u001b[0mperf\u001b[0m\u001b[1;33m)\u001b[0m\u001b[1;33m\u001b[0m\u001b[1;33m\u001b[0m\u001b[0m\n\u001b[0m\u001b[0;32m      3\u001b[0m \u001b[1;33m\u001b[0m\u001b[0m\n\u001b[0;32m      4\u001b[0m \u001b[1;33m\u001b[0m\u001b[0m\n\u001b[0;32m      5\u001b[0m pf.create_full_tear_sheet(\n",
      "\u001b[1;32m~\\anaconda3\\envs\\env_zipline\\lib\\site-packages\\pyfolio\\utils.py\u001b[0m in \u001b[0;36m?\u001b[1;34m(backtest)\u001b[0m\n\u001b[0;32m    159\u001b[0m         \u001b[0mraw_positions\u001b[0m\u001b[1;33m.\u001b[0m\u001b[0mappend\u001b[0m\u001b[1;33m(\u001b[0m\u001b[0mdf\u001b[0m\u001b[1;33m)\u001b[0m\u001b[1;33m\u001b[0m\u001b[1;33m\u001b[0m\u001b[0m\n\u001b[0;32m    160\u001b[0m     \u001b[1;32mif\u001b[0m \u001b[1;32mnot\u001b[0m \u001b[0mraw_positions\u001b[0m\u001b[1;33m:\u001b[0m\u001b[1;33m\u001b[0m\u001b[1;33m\u001b[0m\u001b[0m\n\u001b[0;32m    161\u001b[0m         \u001b[1;32mraise\u001b[0m \u001b[0mValueError\u001b[0m\u001b[1;33m(\u001b[0m\u001b[1;34m\"The backtest does not have any positions.\"\u001b[0m\u001b[1;33m)\u001b[0m\u001b[1;33m\u001b[0m\u001b[1;33m\u001b[0m\u001b[0m\n\u001b[0;32m    162\u001b[0m     \u001b[0mpositions\u001b[0m \u001b[1;33m=\u001b[0m \u001b[0mpd\u001b[0m\u001b[1;33m.\u001b[0m\u001b[0mconcat\u001b[0m\u001b[1;33m(\u001b[0m\u001b[0mraw_positions\u001b[0m\u001b[1;33m)\u001b[0m\u001b[1;33m\u001b[0m\u001b[1;33m\u001b[0m\u001b[0m\n\u001b[1;32m--> 163\u001b[1;33m     \u001b[0mpositions\u001b[0m \u001b[1;33m=\u001b[0m \u001b[0mpos\u001b[0m\u001b[1;33m.\u001b[0m\u001b[0mextract_pos\u001b[0m\u001b[1;33m(\u001b[0m\u001b[0mpositions\u001b[0m\u001b[1;33m,\u001b[0m \u001b[0mbacktest\u001b[0m\u001b[1;33m.\u001b[0m\u001b[0mending_cash\u001b[0m\u001b[1;33m)\u001b[0m\u001b[1;33m\u001b[0m\u001b[1;33m\u001b[0m\u001b[0m\n\u001b[0m\u001b[0;32m    164\u001b[0m     \u001b[0mtransactions\u001b[0m \u001b[1;33m=\u001b[0m \u001b[0mtxn\u001b[0m\u001b[1;33m.\u001b[0m\u001b[0mmake_transaction_frame\u001b[0m\u001b[1;33m(\u001b[0m\u001b[0mbacktest\u001b[0m\u001b[1;33m.\u001b[0m\u001b[0mtransactions\u001b[0m\u001b[1;33m)\u001b[0m\u001b[1;33m\u001b[0m\u001b[1;33m\u001b[0m\u001b[0m\n\u001b[0;32m    165\u001b[0m     \u001b[1;32mif\u001b[0m \u001b[0mtransactions\u001b[0m\u001b[1;33m.\u001b[0m\u001b[0mindex\u001b[0m\u001b[1;33m.\u001b[0m\u001b[0mtzinfo\u001b[0m \u001b[1;32mis\u001b[0m \u001b[1;32mNone\u001b[0m\u001b[1;33m:\u001b[0m\u001b[1;33m\u001b[0m\u001b[1;33m\u001b[0m\u001b[0m\n\u001b[0;32m    166\u001b[0m         \u001b[0mtransactions\u001b[0m\u001b[1;33m.\u001b[0m\u001b[0mindex\u001b[0m \u001b[1;33m=\u001b[0m \u001b[0mtransactions\u001b[0m\u001b[1;33m.\u001b[0m\u001b[0mindex\u001b[0m\u001b[1;33m.\u001b[0m\u001b[0mtz_localize\u001b[0m\u001b[1;33m(\u001b[0m\u001b[1;34m'utc'\u001b[0m\u001b[1;33m)\u001b[0m\u001b[1;33m\u001b[0m\u001b[1;33m\u001b[0m\u001b[0m\n",
      "\u001b[1;32m~\\anaconda3\\envs\\env_zipline\\lib\\site-packages\\pyfolio\\pos.py\u001b[0m in \u001b[0;36m?\u001b[1;34m(positions, cash)\u001b[0m\n\u001b[0;32m    134\u001b[0m          \u001b[1;33m-\u001b[0m \u001b[0mSee\u001b[0m \u001b[0mfull\u001b[0m \u001b[0mexplanation\u001b[0m \u001b[1;32min\u001b[0m \u001b[0mtears\u001b[0m\u001b[1;33m.\u001b[0m\u001b[0mcreate_full_tear_sheet\u001b[0m\u001b[1;33m.\u001b[0m\u001b[1;33m\u001b[0m\u001b[1;33m\u001b[0m\u001b[0m\n\u001b[0;32m    135\u001b[0m     \"\"\"\n\u001b[0;32m    136\u001b[0m \u001b[1;33m\u001b[0m\u001b[0m\n\u001b[0;32m    137\u001b[0m     \u001b[0mpositions\u001b[0m \u001b[1;33m=\u001b[0m \u001b[0mpositions\u001b[0m\u001b[1;33m.\u001b[0m\u001b[0mcopy\u001b[0m\u001b[1;33m(\u001b[0m\u001b[1;33m)\u001b[0m\u001b[1;33m\u001b[0m\u001b[1;33m\u001b[0m\u001b[0m\n\u001b[1;32m--> 138\u001b[1;33m     \u001b[0mpositions\u001b[0m\u001b[1;33m[\u001b[0m\u001b[1;34m'values'\u001b[0m\u001b[1;33m]\u001b[0m \u001b[1;33m=\u001b[0m \u001b[0mpositions\u001b[0m\u001b[1;33m.\u001b[0m\u001b[0mamount\u001b[0m \u001b[1;33m*\u001b[0m \u001b[0mpositions\u001b[0m\u001b[1;33m.\u001b[0m\u001b[0mlast_sale_price\u001b[0m\u001b[1;33m\u001b[0m\u001b[1;33m\u001b[0m\u001b[0m\n\u001b[0m\u001b[0;32m    139\u001b[0m \u001b[1;33m\u001b[0m\u001b[0m\n\u001b[0;32m    140\u001b[0m     \u001b[0mcash\u001b[0m\u001b[1;33m.\u001b[0m\u001b[0mname\u001b[0m \u001b[1;33m=\u001b[0m \u001b[1;34m'cash'\u001b[0m\u001b[1;33m\u001b[0m\u001b[1;33m\u001b[0m\u001b[0m\n\u001b[0;32m    141\u001b[0m \u001b[1;33m\u001b[0m\u001b[0m\n",
      "\u001b[1;32m~\\anaconda3\\envs\\env_zipline\\lib\\site-packages\\pandas\\core\\generic.py\u001b[0m in \u001b[0;36m?\u001b[1;34m(self, name)\u001b[0m\n\u001b[0;32m   6295\u001b[0m             \u001b[1;32mand\u001b[0m \u001b[0mname\u001b[0m \u001b[1;32mnot\u001b[0m \u001b[1;32min\u001b[0m \u001b[0mself\u001b[0m\u001b[1;33m.\u001b[0m\u001b[0m_accessors\u001b[0m\u001b[1;33m\u001b[0m\u001b[1;33m\u001b[0m\u001b[0m\n\u001b[0;32m   6296\u001b[0m             \u001b[1;32mand\u001b[0m \u001b[0mself\u001b[0m\u001b[1;33m.\u001b[0m\u001b[0m_info_axis\u001b[0m\u001b[1;33m.\u001b[0m\u001b[0m_can_hold_identifiers_and_holds_name\u001b[0m\u001b[1;33m(\u001b[0m\u001b[0mname\u001b[0m\u001b[1;33m)\u001b[0m\u001b[1;33m\u001b[0m\u001b[1;33m\u001b[0m\u001b[0m\n\u001b[0;32m   6297\u001b[0m         ):\n\u001b[0;32m   6298\u001b[0m             \u001b[1;32mreturn\u001b[0m \u001b[0mself\u001b[0m\u001b[1;33m[\u001b[0m\u001b[0mname\u001b[0m\u001b[1;33m]\u001b[0m\u001b[1;33m\u001b[0m\u001b[1;33m\u001b[0m\u001b[0m\n\u001b[1;32m-> 6299\u001b[1;33m         \u001b[1;32mreturn\u001b[0m \u001b[0mobject\u001b[0m\u001b[1;33m.\u001b[0m\u001b[0m__getattribute__\u001b[0m\u001b[1;33m(\u001b[0m\u001b[0mself\u001b[0m\u001b[1;33m,\u001b[0m \u001b[0mname\u001b[0m\u001b[1;33m)\u001b[0m\u001b[1;33m\u001b[0m\u001b[1;33m\u001b[0m\u001b[0m\n\u001b[0m",
      "\u001b[1;31mAttributeError\u001b[0m: 'DataFrame' object has no attribute 'amount'"
     ]
    }
   ],
   "source": [
    "returns, positions, transactions = pf.utils.extract_rets_pos_txn_from_zipline(perf)\n",
    "\n",
    "\n",
    "pf.create_full_tear_sheet(\n",
    "    returns,\n",
    "    positions=positions,\n",
    "    transactions=transactions,\n",
    "    round_trips=True,\n",
    ")"
   ]
  },
  {
   "cell_type": "code",
   "execution_count": null,
   "id": "0d0e93c2",
   "metadata": {},
   "outputs": [],
   "source": []
  },
  {
   "cell_type": "code",
   "execution_count": null,
   "id": "571043e0",
   "metadata": {},
   "outputs": [],
   "source": []
  }
 ],
 "metadata": {
  "kernelspec": {
   "display_name": "env_zipline",
   "language": "python",
   "name": "env_zipline"
  },
  "language_info": {
   "codemirror_mode": {
    "name": "ipython",
    "version": 3
   },
   "file_extension": ".py",
   "mimetype": "text/x-python",
   "name": "python",
   "nbconvert_exporter": "python",
   "pygments_lexer": "ipython3",
   "version": "3.10.16"
  },
  "toc": {
   "base_numbering": 1,
   "nav_menu": {},
   "number_sections": true,
   "sideBar": true,
   "skip_h1_title": false,
   "title_cell": "Table of Contents",
   "title_sidebar": "Contents",
   "toc_cell": false,
   "toc_position": {},
   "toc_section_display": true,
   "toc_window_display": false
  },
  "varInspector": {
   "cols": {
    "lenName": 16,
    "lenType": 16,
    "lenVar": 40
   },
   "kernels_config": {
    "python": {
     "delete_cmd_postfix": "",
     "delete_cmd_prefix": "del ",
     "library": "var_list.py",
     "varRefreshCmd": "print(var_dic_list())"
    },
    "r": {
     "delete_cmd_postfix": ") ",
     "delete_cmd_prefix": "rm(",
     "library": "var_list.r",
     "varRefreshCmd": "cat(var_dic_list()) "
    }
   },
   "types_to_exclude": [
    "module",
    "function",
    "builtin_function_or_method",
    "instance",
    "_Feature"
   ],
   "window_display": false
  }
 },
 "nbformat": 4,
 "nbformat_minor": 5
}
