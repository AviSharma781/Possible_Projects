{
 "cells": [
  {
   "cell_type": "markdown",
   "id": "71f5e25a",
   "metadata": {},
   "source": [
    "https://www.quantconnect.com/docs/v2/writing-algorithms/trading-and-orders/option-strategies/bull-call-spread"
   ]
  },
  {
   "cell_type": "markdown",
   "id": "4042beaf",
   "metadata": {},
   "source": [
    " Introduction\n",
    "\n",
    "Bull call spread, also known as long call spread, consists of buying an ITM call and selling an OTM call. Both calls have the same underlying Equity and the same expiration date. The OTM call serves as a hedge for the ITM call. The bull call spread profits from a rise in underlying asset price.\n"
   ]
  },
  {
   "cell_type": "code",
   "execution_count": 1,
   "id": "35694578",
   "metadata": {},
   "outputs": [],
   "source": [
    "# region imports\n",
    "from AlgorithmImports import *\n",
    "# endregion\n",
    "\n",
    "class CrawlingBlackCaribou(QCAlgorithm):\n",
    "\n",
    "    def initialize(self) -> None:\n",
    "        self.set_start_date(2024, 1, 1)\n",
    "        self.set_end_date(2024, 2, 5)\n",
    "        self.set_cash(500000)\n",
    "\n",
    "        self.universe_settings.asynchronous = True\n",
    "        option = self.add_option(\"SPY\", Resolution.MINUTE)\n",
    "        self._symbol = option.symbol\n",
    "        option.set_filter(lambda universe: universe.include_weeklys().call_spread(30, 5))\n"
   ]
  },
  {
   "cell_type": "markdown",
   "id": "71d83868",
   "metadata": {},
   "source": [
    "The call_spread filter narrows the universe down to just the two contracts you need to form a bull call spread."
   ]
  },
  {
   "cell_type": "markdown",
   "id": "a38492fc",
   "metadata": {},
   "source": [
    "In the on_data method, select the expiration and strikes of the contracts in the strategy legs."
   ]
  },
  {
   "cell_type": "code",
   "execution_count": 2,
   "id": "eee544c2",
   "metadata": {},
   "outputs": [
    {
     "ename": "NameError",
     "evalue": "name 'Slice' is not defined",
     "output_type": "error",
     "traceback": [
      "\u001b[1;31m---------------------------------------------------------------------------\u001b[0m",
      "\u001b[1;31mNameError\u001b[0m                                 Traceback (most recent call last)",
      "Cell \u001b[1;32mIn[2], line 1\u001b[0m\n\u001b[1;32m----> 1\u001b[0m \u001b[38;5;28;01mdef\u001b[39;00m \u001b[38;5;21mon_data\u001b[39m(\u001b[38;5;28mself\u001b[39m, \u001b[38;5;28mslice\u001b[39m: \u001b[43mSlice\u001b[49m) \u001b[38;5;241m-\u001b[39m\u001b[38;5;241m>\u001b[39m \u001b[38;5;28;01mNone\u001b[39;00m:\n\u001b[0;32m      2\u001b[0m     \u001b[38;5;28;01mif\u001b[39;00m \u001b[38;5;28mself\u001b[39m\u001b[38;5;241m.\u001b[39mportfolio\u001b[38;5;241m.\u001b[39minvested:\n\u001b[0;32m      3\u001b[0m         \u001b[38;5;28;01mreturn\u001b[39;00m\n",
      "\u001b[1;31mNameError\u001b[0m: name 'Slice' is not defined"
     ]
    }
   ],
   "source": [
    "def on_data(self, slice: Slice) -> None:\n",
    "        if self.portfolio.invested:\n",
    "            return\n",
    "\n",
    "        # Get the OptionChain\n",
    "        chain = slice.option_chains.get(self._symbol, None)\n",
    "        if not chain:\n",
    "            self.log(str(self.time)+str(' ')+str('No chain available'))\n",
    "            return\n",
    "        \n",
    "        # Select the call Option contracts with the furthest expiry\n",
    "        expiry = max([x.expiry for x in chain])\n",
    "        calls = [i for i in chain if i.expiry == expiry and i.right == OptionRight.CALL]\n",
    "        if calls == 0:\n",
    "            self.log(str(self.time)+str(' ')+str(expiry))\n",
    "            return\n",
    "        self.log(str(self.time)+str(' ')+ str('len of calls is ')+str(len(calls)))\n",
    "        # Select the ITM and OTM contract strike prices from the remaining contracts\n",
    "        strikes = [x.strike for x in calls]\n",
    "        otm_strike = max(strikes)\n",
    "        itm_strike = min(strikes)\n",
    "\n",
    "        option_strategy = OptionStrategies.bull_call_spread(self._symbol, itm_strike, otm_strike, expiry)\n",
    "        self.buy(option_strategy, 1)"
   ]
  },
  {
   "cell_type": "code",
   "execution_count": 3,
   "id": "e0483c6b",
   "metadata": {},
   "outputs": [
    {
     "ename": "NameError",
     "evalue": "name 'OptionStrategies' is not defined",
     "output_type": "error",
     "traceback": [
      "\u001b[1;31m---------------------------------------------------------------------------\u001b[0m",
      "\u001b[1;31mNameError\u001b[0m                                 Traceback (most recent call last)",
      "Cell \u001b[1;32mIn[3], line 1\u001b[0m\n\u001b[1;32m----> 1\u001b[0m option_strategy \u001b[38;5;241m=\u001b[39m \u001b[43mOptionStrategies\u001b[49m\u001b[38;5;241m.\u001b[39mbull_call_spread(\u001b[38;5;28mself\u001b[39m\u001b[38;5;241m.\u001b[39m_symbol, itm_strike, otm_strike, expiry)\n\u001b[0;32m      2\u001b[0m \u001b[38;5;28mself\u001b[39m\u001b[38;5;241m.\u001b[39mbuy(option_strategy, \u001b[38;5;241m1\u001b[39m)\n",
      "\u001b[1;31mNameError\u001b[0m: name 'OptionStrategies' is not defined"
     ]
    }
   ],
   "source": [
    "option_strategy = OptionStrategies.bull_call_spread(self._symbol, itm_strike, otm_strike, expiry)\n",
    "self.buy(option_strategy, 1)"
   ]
  },
  {
   "cell_type": "code",
   "execution_count": 4,
   "id": "d015c2c5",
   "metadata": {},
   "outputs": [
    {
     "ename": "NameError",
     "evalue": "name 'calls' is not defined",
     "output_type": "error",
     "traceback": [
      "\u001b[1;31m---------------------------------------------------------------------------\u001b[0m",
      "\u001b[1;31mNameError\u001b[0m                                 Traceback (most recent call last)",
      "Cell \u001b[1;32mIn[4], line 1\u001b[0m\n\u001b[1;32m----> 1\u001b[0m itm_call \u001b[38;5;241m=\u001b[39m [x \u001b[38;5;28;01mfor\u001b[39;00m x \u001b[38;5;129;01min\u001b[39;00m \u001b[43mcalls\u001b[49m \u001b[38;5;28;01mif\u001b[39;00m x\u001b[38;5;241m.\u001b[39mstrike \u001b[38;5;241m==\u001b[39m itm_strike][\u001b[38;5;241m0\u001b[39m]\n\u001b[0;32m      2\u001b[0m otm_call \u001b[38;5;241m=\u001b[39m [x \u001b[38;5;28;01mfor\u001b[39;00m x \u001b[38;5;129;01min\u001b[39;00m calls \u001b[38;5;28;01mif\u001b[39;00m x\u001b[38;5;241m.\u001b[39mstrike \u001b[38;5;241m==\u001b[39m otm_strike][\u001b[38;5;241m0\u001b[39m]\n\u001b[0;32m      4\u001b[0m legs \u001b[38;5;241m=\u001b[39m [\n\u001b[0;32m      5\u001b[0m     Leg\u001b[38;5;241m.\u001b[39mcreate(itm_call\u001b[38;5;241m.\u001b[39msymbol, \u001b[38;5;241m1\u001b[39m),\n\u001b[0;32m      6\u001b[0m     Leg\u001b[38;5;241m.\u001b[39mcreate(otm_call\u001b[38;5;241m.\u001b[39msymbol, \u001b[38;5;241m-\u001b[39m\u001b[38;5;241m1\u001b[39m)\n\u001b[0;32m      7\u001b[0m ]\n",
      "\u001b[1;31mNameError\u001b[0m: name 'calls' is not defined"
     ]
    }
   ],
   "source": [
    "itm_call = [x for x in calls if x.strike == itm_strike][0]\n",
    "otm_call = [x for x in calls if x.strike == otm_strike][0]\n",
    "\n",
    "legs = [\n",
    "    Leg.create(itm_call.symbol, 1),\n",
    "    Leg.create(otm_call.symbol, -1)\n",
    "]\n",
    "self.combo_market_order(legs, 1)"
   ]
  },
  {
   "cell_type": "code",
   "execution_count": null,
   "id": "4cb63072",
   "metadata": {},
   "outputs": [],
   "source": []
  }
 ],
 "metadata": {
  "kernelspec": {
   "display_name": "env_zipline",
   "language": "python",
   "name": "env_zipline"
  },
  "language_info": {
   "codemirror_mode": {
    "name": "ipython",
    "version": 3
   },
   "file_extension": ".py",
   "mimetype": "text/x-python",
   "name": "python",
   "nbconvert_exporter": "python",
   "pygments_lexer": "ipython3",
   "version": "3.10.16"
  },
  "toc": {
   "base_numbering": 1,
   "nav_menu": {},
   "number_sections": true,
   "sideBar": true,
   "skip_h1_title": false,
   "title_cell": "Table of Contents",
   "title_sidebar": "Contents",
   "toc_cell": false,
   "toc_position": {},
   "toc_section_display": true,
   "toc_window_display": false
  },
  "varInspector": {
   "cols": {
    "lenName": 16,
    "lenType": 16,
    "lenVar": 40
   },
   "kernels_config": {
    "python": {
     "delete_cmd_postfix": "",
     "delete_cmd_prefix": "del ",
     "library": "var_list.py",
     "varRefreshCmd": "print(var_dic_list())"
    },
    "r": {
     "delete_cmd_postfix": ") ",
     "delete_cmd_prefix": "rm(",
     "library": "var_list.r",
     "varRefreshCmd": "cat(var_dic_list()) "
    }
   },
   "types_to_exclude": [
    "module",
    "function",
    "builtin_function_or_method",
    "instance",
    "_Feature"
   ],
   "window_display": false
  }
 },
 "nbformat": 4,
 "nbformat_minor": 5
}
